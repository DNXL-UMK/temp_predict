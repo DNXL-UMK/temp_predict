{
 "cells": [
  {
   "cell_type": "code",
   "execution_count": 24,
   "metadata": {},
   "outputs": [],
   "source": [
    "import pandas as pd\n",
    "import numpy as np\n",
    "from sklearn.preprocessing import MinMaxScaler, StandardScaler\n",
    "from sklearn.preprocessing import OneHotEncoder, LabelEncoder\n",
    "from sklearn.model_selection import train_test_split\n",
    "from keras.models import Sequential\n",
    "from keras.layers import LSTM, Dense, Dropout\n",
    "from keras.callbacks import EarlyStopping\n",
    "import matplotlib.pyplot as plt\n",
    "import plotly.graph_objs as go"
   ]
  },
  {
   "cell_type": "code",
   "execution_count": 25,
   "metadata": {},
   "outputs": [],
   "source": [
    "file = \"include_january_all_param.xlsx\"\n",
    "data = pd.read_excel(file,header=3,parse_dates =[\"time\"], index_col =\"time\")"
   ]
  },
  {
   "cell_type": "code",
   "execution_count": 26,
   "metadata": {},
   "outputs": [
    {
     "name": "stdout",
     "output_type": "stream",
     "text": [
      "There were some columns deleted, reason unrelated/redundance/development column\n"
     ]
    }
   ],
   "source": [
    "columns_to_rename = [\n",
    "    \"weather_code (wmo code)\",\n",
    "    \"temperature_2m_max (°C)\",\n",
    "    \"temperature_2m_min (°C)\",\n",
    "    \"temperature_2m_mean (°C)\",\n",
    "    \"apparent_temperature_max (°C)\",\n",
    "    \"apparent_temperature_min (°C)\",\n",
    "    \"apparent_temperature_mean (°C)\",\n",
    "    \"sunrise (iso8601)\",\n",
    "    \"sunset (iso8601)\",\n",
    "    \"daylight_duration (s)\",\n",
    "    \"sunshine_duration (s)\",\n",
    "    \"rain_sum (mm)\",\n",
    "    \"precipitation_hours (h)\",\n",
    "    \"wind_speed_10m_max (km/h)\",\n",
    "    \"wind_gusts_10m_max (km/h)\",\n",
    "    \"wind_direction_10m_dominant (°)\",\n",
    "    \"shortwave_radiation_sum (MJ/m²)\",\n",
    "    \"et0_fao_evapotranspiration (mm)\"\n",
    "]\n",
    "\n",
    "if len(columns_to_rename) != len(data.columns):\n",
    "    print(\"There were some columns deleted, reason unrelated/redundance/development column\")\n",
    "\n",
    "data = data[columns_to_rename]\n",
    "# Continue with renaming the columns\n",
    "\n",
    "\n",
    "data.rename(columns={\n",
    "    \"weather_code (wmo code)\": 'weather_code',\n",
    "    \"temperature_2m_max (°C)\": 'temperature_2m_max',\n",
    "    \"temperature_2m_min (°C)\": 'temperature_2m_min',\n",
    "    \"temperature_2m_mean (°C)\": 'temperature_2m_mean',\n",
    "    \"apparent_temperature_max (°C)\": 'apparent_temperature_max',\n",
    "    \"apparent_temperature_min (°C)\": 'apparent_temperature_min ',\n",
    "    \"apparent_temperature_mean (°C)\":'apparent_temperature_mean',\n",
    "    \"sunrise (iso8601)\"\t: 'sunrise',\n",
    "    \"sunset (iso8601)\"\t: 'sunset',\n",
    "    \"daylight_duration (s)\" : 'daylight_duration',\n",
    "    \"sunshine_duration (s)\"\t: 'sunshine_duration',\n",
    "    \"rain_sum (mm)\" : 'rain_sum',\n",
    "    \"precipitation_hours (h)\"  : 'precipitation_hours',\n",
    "    \"wind_speed_10m_max (km/h)\" : 'wind_speed_10m_max',\n",
    "    \"wind_gusts_10m_max (km/h)\" : 'wind_gusts_10m_max',\n",
    "    \"wind_direction_10m_dominant (°)\" : 'wind_direction_10m_dominant',\n",
    "    \"shortwave_radiation_sum (MJ/m²)\" : 'shortwave_radiation_sum',\n",
    "    \"et0_fao_evapotranspiration (mm)\" : 'et0_fao_evapotranspiration'},inplace=True)\n"
   ]
  },
  {
   "cell_type": "code",
   "execution_count": 27,
   "metadata": {},
   "outputs": [],
   "source": [
    "label_encoder = LabelEncoder()\n",
    "data['weather_code_encoded'] = label_encoder.fit_transform(data['weather_code'])\n",
    "data['wind_direction_10m_dominant_encoded'] = label_encoder.fit_transform(data['wind_direction_10m_dominant'])\n",
    "\n",
    "# Example of preprocessing datetime variables (sunrise, sunset, iso8601)\n",
    "data['sunrise'] = pd.to_datetime(data['sunrise'])\n",
    "data['sunset'] = pd.to_datetime(data['sunset'])\n",
    "data['hour_of_sunrise'] = data['sunrise'].dt.hour\n",
    "data['hour_of_sunset'] = data['sunset'].dt.hour\n",
    "\n",
    "\n",
    "# Drop the original categorical and datetime variables\n",
    "data.drop(['weather_code', 'wind_direction_10m_dominant', 'sunrise', 'sunset'], axis=1, inplace=True)"
   ]
  },
  {
   "cell_type": "code",
   "execution_count": 28,
   "metadata": {},
   "outputs": [
    {
     "name": "stdout",
     "output_type": "stream",
     "text": [
      "            temperature_2m_max  temperature_2m_min  temperature_2m_mean  \\\n",
      "time                                                                      \n",
      "2022-01-01           -1.806814           -0.302132                 23.4   \n",
      "2022-01-02           -2.077606           -0.657105                 23.5   \n",
      "2022-01-03           -1.481863            0.052841                 24.2   \n",
      "2022-01-04           -1.319388           -0.183808                 24.3   \n",
      "2022-01-05           -0.452853           -1.248727                 24.6   \n",
      "\n",
      "            apparent_temperature_max  apparent_temperature_min   \\\n",
      "time                                                              \n",
      "2022-01-01                 -1.764825                  -0.181376   \n",
      "2022-01-02                 -1.951268                  -0.401073   \n",
      "2022-01-03                 -1.764825                   0.184787   \n",
      "2022-01-04                 -1.503804                  -0.034911   \n",
      "2022-01-05                 -0.235991                  -1.353095   \n",
      "\n",
      "            apparent_temperature_mean  daylight_duration  sunshine_duration  \\\n",
      "time                                                                          \n",
      "2022-01-01                       28.2           0.009543           0.215429   \n",
      "2022-01-02                       28.5           0.011399           0.429521   \n",
      "2022-01-03                       28.7           0.013418           0.557748   \n",
      "2022-01-04                       29.1           0.015621           0.608189   \n",
      "2022-01-05                       29.1           0.018016           0.926401   \n",
      "\n",
      "            rain_sum  precipitation_hours  wind_speed_10m_max  \\\n",
      "time                                                            \n",
      "2022-01-01  0.311845             1.000000            1.797982   \n",
      "2022-01-02  0.230459             0.916667           -0.255113   \n",
      "2022-01-03  0.037873             0.708333            1.156390   \n",
      "2022-01-04  0.116035             0.791667            0.386479   \n",
      "2022-01-05  0.005641             0.250000            0.685889   \n",
      "\n",
      "            wind_gusts_10m_max  shortwave_radiation_sum  \\\n",
      "time                                                      \n",
      "2022-01-01            1.824073                -1.551268   \n",
      "2022-01-02            0.768509                -1.446381   \n",
      "2022-01-03            2.584079                -1.106082   \n",
      "2022-01-04            1.000733                -0.910294   \n",
      "2022-01-05            1.064066                 0.077970   \n",
      "\n",
      "            et0_fao_evapotranspiration  weather_code_encoded  \\\n",
      "time                                                           \n",
      "2022-01-01                    0.334728                     7   \n",
      "2022-01-02                    0.359833                     8   \n",
      "2022-01-03                    0.445607                     4   \n",
      "2022-01-04                    0.466527                     8   \n",
      "2022-01-05                    0.652720                     3   \n",
      "\n",
      "            wind_direction_10m_dominant_encoded  hour_of_sunrise  \\\n",
      "time                                                               \n",
      "2022-01-01                                   11                7   \n",
      "2022-01-02                                  220                7   \n",
      "2022-01-03                                   22                7   \n",
      "2022-01-04                                   16                7   \n",
      "2022-01-05                                  204                7   \n",
      "\n",
      "            hour_of_sunset  \n",
      "time                        \n",
      "2022-01-01              19  \n",
      "2022-01-02              19  \n",
      "2022-01-03              19  \n",
      "2022-01-04              19  \n",
      "2022-01-05              19  \n"
     ]
    }
   ],
   "source": [
    "# Select variables for standardization and normalization\n",
    "variables_to_standardize = ['temperature_2m_max', 'temperature_2m_min', 'apparent_temperature_max',\n",
    "                            'apparent_temperature_min ', 'wind_speed_10m_max', 'wind_gusts_10m_max',\n",
    "                            'shortwave_radiation_sum']\n",
    "\n",
    "variables_to_normalize = [ 'rain_sum', \"precipitation_hours\",\n",
    "                           'sunshine_duration', 'daylight_duration', 'et0_fao_evapotranspiration']\n",
    "\n",
    "# Standardization\n",
    "scaler_standardization = StandardScaler()\n",
    "data[variables_to_standardize] = scaler_standardization.fit_transform(data[variables_to_standardize])\n",
    "\n",
    "# Normalization\n",
    "scaler_normalization = MinMaxScaler()\n",
    "data[variables_to_normalize] = scaler_normalization.fit_transform(data[variables_to_normalize])\n",
    "\n",
    "# Display the first few rows of the transformed data\n",
    "print(data.head())"
   ]
  },
  {
   "cell_type": "code",
   "execution_count": 29,
   "metadata": {},
   "outputs": [],
   "source": [
    "# the Y value or target \n",
    "target_variable = ['temperature_2m_mean']\n",
    "# the X value or feature \n",
    "features = ['temperature_2m_max', 'temperature_2m_min', 'apparent_temperature_max',\n",
    "       'apparent_temperature_min ', 'apparent_temperature_mean',\n",
    "       'daylight_duration', 'sunshine_duration',\n",
    "       'rain_sum', 'precipitation_hours', 'wind_speed_10m_max',\n",
    "       'wind_gusts_10m_max', 'shortwave_radiation_sum',\n",
    "       'et0_fao_evapotranspiration', 'weather_code_encoded',\n",
    "       'wind_direction_10m_dominant_encoded', 'hour_of_sunrise',\n",
    "       'hour_of_sunset']\n",
    "\n",
    "\n",
    "sequence_length = 30  # Use 30 days of historical data for prediction\n",
    "\n",
    "\n",
    "# empty string for storing sequence lenght\n",
    "sequences = []\n",
    "target = []\n",
    "\n",
    "#the code for sequence length. It is good to grouping it as 30 to detect monthly weather pattern\n",
    "sequence_data_values = data[features].values\n",
    "target_values = data[target_variable].values\n",
    "\n",
    "for i in range(len(data) - sequence_length): # the total rows data is subrtracted with sequence length\n",
    "    sequence_data = sequence_data_values[i:i+sequence_length] # In loop and grouping 30 rows together\n",
    "    sequences.append(sequence_data)#adding the data into empty string of sequence\n",
    "    target.append(target_values[i+sequence_length])\n",
    "#converting to numpy for faster processing\n",
    "X = np.array(sequences)\n",
    "y = np.array(target)"
   ]
  },
  {
   "cell_type": "code",
   "execution_count": 30,
   "metadata": {},
   "outputs": [
    {
     "name": "stdout",
     "output_type": "stream",
     "text": [
      "11/11 [==============================] - 1s 9ms/step\n"
     ]
    }
   ],
   "source": [
    "from keras.models import load_model\n",
    "\n",
    "# Load the model\n",
    "model = load_model('psychic.keras')\n",
    "predict = model.predict(X)"
   ]
  },
  {
   "cell_type": "code",
   "execution_count": 31,
   "metadata": {},
   "outputs": [
    {
     "name": "stdout",
     "output_type": "stream",
     "text": [
      "Mean Absolute Error (MAE): 0.45491300782160976\n",
      "R-squared (R2): 0.6310203528596481\n",
      "Mean Squared Error (MSE): 0.3333573705803862\n"
     ]
    }
   ],
   "source": [
    "from sklearn.metrics import mean_absolute_error, r2_score, mean_squared_error\n",
    "mae = mean_absolute_error(y, predict)\n",
    "r2 = r2_score(y, predict)\n",
    "mse = mean_squared_error(y, predict)\n",
    "\n",
    "print(f\"Mean Absolute Error (MAE): {mae}\")\n",
    "print(f\"R-squared (R2): {r2}\")\n",
    "print(f\"Mean Squared Error (MSE): {mse}\")"
   ]
  },
  {
   "cell_type": "code",
   "execution_count": 32,
   "metadata": {},
   "outputs": [
    {
     "name": "stdout",
     "output_type": "stream",
     "text": [
      "Accuracy: 98.21%\n"
     ]
    }
   ],
   "source": [
    "\n",
    "# Calculate the absolute errors\n",
    "errors = abs(predict - y)\n",
    "\n",
    "# Calculate mean absolute percentage error (MAPE)\n",
    "mape = 100 * (errors / y)\n",
    "\n",
    "# Calculate accuracy\n",
    "accuracy = 100 - np.mean(mape)\n",
    "\n",
    "# Print the accuracy as a percentage\n",
    "print('Accuracy: {:.2f}%'.format(accuracy))"
   ]
  },
  {
   "cell_type": "code",
   "execution_count": 33,
   "metadata": {},
   "outputs": [
    {
     "data": {
      "image/png": "[encoded data removed]",
      "text/plain": [
       "<Figure size 640x480 with 1 Axes>"
      ]
     },
     "metadata": {},
     "output_type": "display_data"
    }
   ],
   "source": [
    "import matplotlib.pyplot as plt\n",
    "\n",
    "\n",
    "# Plot the actual values\n",
    "plt.plot(y, label='Actual', color='blue')\n",
    "\n",
    "# Plot the predicted values\n",
    "plt.plot(predict, label='Predicted', color='red')\n",
    "\n",
    "# Customize the plot\n",
    "plt.xlabel('Time')\n",
    "plt.ylabel('Temperature')\n",
    "plt.title('Actual vs Predicted Temperature')\n",
    "plt.legend()\n",
    "plt.grid(True)\n",
    "\n",
    "# Show the plot\n",
    "plt.show()\n"
   ]
  },
  {
   "cell_type": "code",
   "execution_count": 34,
   "metadata": {},
   "outputs": [
    {
     "data": {
      "application/vnd.plotly.v1+json": {
       "config": {
        "plotlyServerURL": "https://plot.ly"
       },
       "data": [
        {
         "mode": "lines",
         "name": "pred",
         "type": "scatter",
         "x": [
          "2022-01-01T00:00:00",
          "2022-01-02T00:00:00",
          "2022-01-03T00:00:00",
          "2022-01-04T00:00:00",
          "2022-01-05T00:00:00",
          "2022-01-06T00:00:00",
          "2022-01-07T00:00:00",
          "2022-01-08T00:00:00",
          "2022-01-09T00:00:00",
          "2022-01-10T00:00:00",
          "2022-01-11T00:00:00",
          "2022-01-12T00:00:00",
          "2022-01-13T00:00:00",
          "2022-01-14T00:00:00",
          "2022-01-15T00:00:00",
          "2022-01-16T00:00:00",
          "2022-01-17T00:00:00",
          "2022-01-18T00:00:00",
          "2022-01-19T00:00:00",
          "2022-01-20T00:00:00",
          "2022-01-21T00:00:00",
          "2022-01-22T00:00:00",
          "2022-01-23T00:00:00",
          "2022-01-24T00:00:00",
          "2022-01-25T00:00:00",
          "2022-01-26T00:00:00",
          "2022-01-27T00:00:00",
          "2022-01-28T00:00:00",
          "2022-01-29T00:00:00",
          "2022-01-30T00:00:00",
          "2022-01-31T00:00:00",
          "2022-02-01T00:00:00",
          "2022-02-02T00:00:00",
          "2022-02-03T00:00:00",
          "2022-02-04T00:00:00",
          "2022-02-05T00:00:00",
          "2022-02-06T00:00:00",
          "2022-02-07T00:00:00",
          "2022-02-08T00:00:00",
          "2022-02-09T00:00:00",
          "2022-02-10T00:00:00",
          "2022-02-11T00:00:00",
          "2022-02-12T00:00:00",
          "2022-02-13T00:00:00",
          "2022-02-14T00:00:00",
          "2022-02-15T00:00:00",
          "2022-02-16T00:00:00",
          "2022-02-17T00:00:00",
          "2022-02-18T00:00:00",
          "2022-02-19T00:00:00",
          "2022-02-20T00:00:00",
          "2022-02-21T00:00:00",
          "2022-02-22T00:00:00",
          "2022-02-23T00:00:00",
          "2022-02-24T00:00:00",
          "2022-02-25T00:00:00",
          "2022-02-26T00:00:00",
          "2022-02-27T00:00:00",
          "2022-02-28T00:00:00",
          "2022-03-01T00:00:00",
          "2022-03-02T00:00:00",
          "2022-03-03T00:00:00",
          "2022-03-04T00:00:00",
          "2022-03-05T00:00:00",
          "2022-03-06T00:00:00",
          "2022-03-07T00:00:00",
          "2022-03-08T00:00:00",
          "2022-03-09T00:00:00",
          "2022-03-10T00:00:00",
          "2022-03-11T00:00:00",
          "2022-03-12T00:00:00",
          "2022-03-13T00:00:00",
          "2022-03-14T00:00:00",
          "2022-03-15T00:00:00",
          "2022-03-16T00:00:00",
          "2022-03-17T00:00:00",
          "2022-03-18T00:00:00",
          "2022-03-19T00:00:00",
          "2022-03-20T00:00:00",
          "2022-03-21T00:00:00",
          "2022-03-22T00:00:00",
          "2022-03-23T00:00:00",
          "2022-03-24T00:00:00",
          "2022-03-25T00:00:00",
          "2022-03-26T00:00:00",
          "2022-03-27T00:00:00",
          "2022-03-28T00:00:00",
          "2022-03-29T00:00:00",
          "2022-03-30T00:00:00",
          "2022-03-31T00:00:00",
          "2022-04-01T00:00:00",
          "2022-04-02T00:00:00",
          "2022-04-03T00:00:00",
          "2022-04-04T00:00:00",
          "2022-04-05T00:00:00",
          "2022-04-06T00:00:00",
          "2022-04-07T00:00:00",
          "2022-04-08T00:00:00",
          "2022-04-09T00:00:00",
          "2022-04-10T00:00:00",
          "2022-04-11T00:00:00",
          "2022-04-12T00:00:00",
          "2022-04-13T00:00:00",
          "2022-04-14T00:00:00",
          "2022-04-15T00:00:00",
          "2022-04-16T00:00:00",
          "2022-04-17T00:00:00",
          "2022-04-18T00:00:00",
          "2022-04-19T00:00:00",
          "2022-04-20T00:00:00",
          "2022-04-21T00:00:00",
          "2022-04-22T00:00:00",
          "2022-04-23T00:00:00",
          "2022-04-24T00:00:00",
          "2022-04-25T00:00:00",
          "2022-04-26T00:00:00",
          "2022-04-27T00:00:00",
          "2022-04-28T00:00:00",
          "2022-04-29T00:00:00",
          "2022-04-30T00:00:00",
          "2022-05-01T00:00:00",
          "2022-05-02T00:00:00",
          "2022-05-03T00:00:00",
          "2022-05-04T00:00:00",
          "2022-05-05T00:00:00",
          "2022-05-06T00:00:00",
          "2022-05-07T00:00:00",
          "2022-05-08T00:00:00",
          "2022-05-09T00:00:00",
          "2022-05-10T00:00:00",
          "2022-05-11T00:00:00",
          "2022-05-12T00:00:00",
          "2022-05-13T00:00:00",
          "2022-05-14T00:00:00",
          "2022-05-15T00:00:00",
          "2022-05-16T00:00:00",
          "2022-05-17T00:00:00",
          "2022-05-18T00:00:00",
          "2022-05-19T00:00:00",
          "2022-05-20T00:00:00",
          "2022-05-21T00:00:00",
          "2022-05-22T00:00:00",
          "2022-05-23T00:00:00",
          "2022-05-24T00:00:00",
          "2022-05-25T00:00:00",
          "2022-05-26T00:00:00",
          "2022-05-27T00:00:00",
          "2022-05-28T00:00:00",
          "2022-05-29T00:00:00",
          "2022-05-30T00:00:00",
          "2022-05-31T00:00:00",
          "2022-06-01T00:00:00",
          "2022-06-02T00:00:00",
          "2022-06-03T00:00:00",
          "2022-06-04T00:00:00",
          "2022-06-05T00:00:00",
          "2022-06-06T00:00:00",
          "2022-06-07T00:00:00",
          "2022-06-08T00:00:00",
          "2022-06-09T00:00:00",
          "2022-06-10T00:00:00",
          "2022-06-11T00:00:00",
          "2022-06-12T00:00:00",
          "2022-06-13T00:00:00",
          "2022-06-14T00:00:00",
          "2022-06-15T00:00:00",
          "2022-06-16T00:00:00",
          "2022-06-17T00:00:00",
          "2022-06-18T00:00:00",
          "2022-06-19T00:00:00",
          "2022-06-20T00:00:00",
          "2022-06-21T00:00:00",
          "2022-06-22T00:00:00",
          "2022-06-23T00:00:00",
          "2022-06-24T00:00:00",
          "2022-06-25T00:00:00",
          "2022-06-26T00:00:00",
          "2022-06-27T00:00:00",
          "2022-06-28T00:00:00",
          "2022-06-29T00:00:00",
          "2022-06-30T00:00:00",
          "2022-07-01T00:00:00",
          "2022-07-02T00:00:00",
          "2022-07-03T00:00:00",
          "2022-07-04T00:00:00",
          "2022-07-05T00:00:00",
          "2022-07-06T00:00:00",
          "2022-07-07T00:00:00",
          "2022-07-08T00:00:00",
          "2022-07-09T00:00:00",
          "2022-07-10T00:00:00",
          "2022-07-11T00:00:00",
          "2022-07-12T00:00:00",
          "2022-07-13T00:00:00",
          "2022-07-14T00:00:00",
          "2022-07-15T00:00:00",
          "2022-07-16T00:00:00",
          "2022-07-17T00:00:00",
          "2022-07-18T00:00:00",
          "2022-07-19T00:00:00",
          "2022-07-20T00:00:00",
          "2022-07-21T00:00:00",
          "2022-07-22T00:00:00",
          "2022-07-23T00:00:00",
          "2022-07-24T00:00:00",
          "2022-07-25T00:00:00",
          "2022-07-26T00:00:00",
          "2022-07-27T00:00:00",
          "2022-07-28T00:00:00",
          "2022-07-29T00:00:00",
          "2022-07-30T00:00:00",
          "2022-07-31T00:00:00",
          "2022-08-01T00:00:00",
          "2022-08-02T00:00:00",
          "2022-08-03T00:00:00",
          "2022-08-04T00:00:00",
          "2022-08-05T00:00:00",
          "2022-08-06T00:00:00",
          "2022-08-07T00:00:00",
          "2022-08-08T00:00:00",
          "2022-08-09T00:00:00",
          "2022-08-10T00:00:00",
          "2022-08-11T00:00:00",
          "2022-08-12T00:00:00",
          "2022-08-13T00:00:00",
          "2022-08-14T00:00:00",
          "2022-08-15T00:00:00",
          "2022-08-16T00:00:00",
          "2022-08-17T00:00:00",
          "2022-08-18T00:00:00",
          "2022-08-19T00:00:00",
          "2022-08-20T00:00:00",
          "2022-08-21T00:00:00",
          "2022-08-22T00:00:00",
          "2022-08-23T00:00:00",
          "2022-08-24T00:00:00",
          "2022-08-25T00:00:00",
          "2022-08-26T00:00:00",
          "2022-08-27T00:00:00",
          "2022-08-28T00:00:00",
          "2022-08-29T00:00:00",
          "2022-08-30T00:00:00",
          "2022-08-31T00:00:00",
          "2022-09-01T00:00:00",
          "2022-09-02T00:00:00",
          "2022-09-03T00:00:00",
          "2022-09-04T00:00:00",
          "2022-09-05T00:00:00",
          "2022-09-06T00:00:00",
          "2022-09-07T00:00:00",
          "2022-09-08T00:00:00",
          "2022-09-09T00:00:00",
          "2022-09-10T00:00:00",
          "2022-09-11T00:00:00",
          "2022-09-12T00:00:00",
          "2022-09-13T00:00:00",
          "2022-09-14T00:00:00",
          "2022-09-15T00:00:00",
          "2022-09-16T00:00:00",
          "2022-09-17T00:00:00",
          "2022-09-18T00:00:00",
          "2022-09-19T00:00:00",
          "2022-09-20T00:00:00",
          "2022-09-21T00:00:00",
          "2022-09-22T00:00:00",
          "2022-09-23T00:00:00",
          "2022-09-24T00:00:00",
          "2022-09-25T00:00:00",
          "2022-09-26T00:00:00",
          "2022-09-27T00:00:00",
          "2022-09-28T00:00:00",
          "2022-09-29T00:00:00",
          "2022-09-30T00:00:00",
          "2022-10-01T00:00:00",
          "2022-10-02T00:00:00",
          "2022-10-03T00:00:00",
          "2022-10-04T00:00:00",
          "2022-10-05T00:00:00",
          "2022-10-06T00:00:00",
          "2022-10-07T00:00:00",
          "2022-10-08T00:00:00",
          "2022-10-09T00:00:00",
          "2022-10-10T00:00:00",
          "2022-10-11T00:00:00",
          "2022-10-12T00:00:00",
          "2022-10-13T00:00:00",
          "2022-10-14T00:00:00",
          "2022-10-15T00:00:00",
          "2022-10-16T00:00:00",
          "2022-10-17T00:00:00",
          "2022-10-18T00:00:00",
          "2022-10-19T00:00:00",
          "2022-10-20T00:00:00",
          "2022-10-21T00:00:00",
          "2022-10-22T00:00:00",
          "2022-10-23T00:00:00",
          "2022-10-24T00:00:00",
          "2022-10-25T00:00:00",
          "2022-10-26T00:00:00",
          "2022-10-27T00:00:00",
          "2022-10-28T00:00:00",
          "2022-10-29T00:00:00",
          "2022-10-30T00:00:00",
          "2022-10-31T00:00:00",
          "2022-11-01T00:00:00"
         ],
         "y": [
          26.5806884765625,
          25.967912673950195,
          25.694719314575195,
          25.285245895385742,
          24.814245223999023,
          24.402633666992188,
          24.632110595703125,
          24.71630096435547,
          24.08116340637207,
          24.470197677612305,
          24.122882843017578,
          24.504858016967773,
          24.3817138671875,
          24.478958129882812,
          24.870065689086914,
          25.245933532714844,
          24.83668327331543,
          25.563522338867188,
          25.697328567504883,
          25.508224487304688,
          25.730560302734375,
          24.508419036865234,
          23.661357879638672,
          22.944509506225586,
          22.66311264038086,
          22.894031524658203,
          23.45969009399414,
          24.342344284057617,
          24.753965377807617,
          24.606048583984375,
          23.96685028076172,
          24.110044479370117,
          24.319358825683594,
          24.366313934326172,
          24.082962036132812,
          25.25090217590332,
          25.24628448486328,
          25.314558029174805,
          24.563066482543945,
          25.286054611206055,
          25.9998722076416,
          25.222492218017578,
          25.98710823059082,
          25.573516845703125,
          25.34853172302246,
          25.407657623291016,
          25.189659118652344,
          25.564682006835938,
          26.057842254638672,
          25.63788604736328,
          25.862422943115234,
          26.296096801757812,
          25.956497192382812,
          25.872777938842773,
          25.991649627685547,
          25.952648162841797,
          26.156509399414062,
          24.979951858520508,
          25.091506958007812,
          24.84394645690918,
          24.892993927001953,
          24.855127334594727,
          25.111480712890625,
          25.653818130493164,
          25.397310256958008,
          25.70412254333496,
          25.972217559814453,
          26.098180770874023,
          26.039432525634766,
          26.308536529541016,
          26.228649139404297,
          25.65029525756836,
          25.69025421142578,
          26.02099609375,
          25.857219696044922,
          26.14324188232422,
          26.21246337890625,
          26.059228897094727,
          26.24295425415039,
          26.687335968017578,
          27.30722999572754,
          26.429950714111328,
          26.772897720336914,
          26.20003318786621,
          25.933015823364258,
          25.49355125427246,
          26.181964874267578,
          26.307968139648438,
          26.004873275756836,
          26.505538940429688,
          26.002605438232422,
          26.505754470825195,
          26.20587158203125,
          26.26714515686035,
          26.119050979614258,
          26.374923706054688,
          25.894529342651367,
          26.01348876953125,
          26.23154067993164,
          26.66345977783203,
          27.135107040405273,
          26.815900802612305,
          27.223634719848633,
          26.977691650390625,
          27.165851593017578,
          27.54405975341797,
          27.656421661376953,
          27.768627166748047,
          26.521581649780273,
          27.11176872253418,
          26.99155044555664,
          26.276142120361328,
          26.416820526123047,
          25.907089233398438,
          26.273456573486328,
          25.903942108154297,
          25.952280044555664,
          25.681121826171875,
          26.052366256713867,
          25.69723129272461,
          25.67682456970215,
          25.581809997558594,
          25.76651382446289,
          25.396320343017578,
          25.87911033630371,
          25.55390739440918,
          25.23093032836914,
          25.594425201416016,
          25.636171340942383,
          25.385385513305664,
          25.270614624023438,
          24.957508087158203,
          24.66303253173828,
          25.917919158935547,
          26.094301223754883,
          26.03368377685547,
          26.47233009338379,
          25.665761947631836,
          26.26022720336914,
          26.88347625732422,
          26.542064666748047,
          26.62506866455078,
          25.881439208984375,
          26.472835540771484,
          26.464006423950195,
          26.578784942626953,
          25.82583999633789,
          25.786006927490234,
          25.70252799987793,
          26.488821029663086,
          26.860246658325195,
          27.085966110229492,
          27.02944564819336,
          26.24772071838379,
          25.594709396362305,
          26.810548782348633,
          26.1671199798584,
          25.77606773376465,
          26.117698669433594,
          25.81694793701172,
          25.738887786865234,
          26.06925392150879,
          26.266155242919922,
          25.90470314025879,
          25.869871139526367,
          25.91646385192871,
          25.78422737121582,
          25.559053421020508,
          25.164255142211914,
          25.214345932006836,
          25.8078670501709,
          26.281265258789062,
          25.907073974609375,
          26.545625686645508,
          26.580615997314453,
          26.742610931396484,
          26.269153594970703,
          25.760156631469727,
          25.57349395751953,
          25.987905502319336,
          26.29193878173828,
          26.111597061157227,
          25.839887619018555,
          25.871429443359375,
          25.76908302307129,
          26.691326141357422,
          25.77996826171875,
          26.07541847229004,
          25.634180068969727,
          25.338104248046875,
          25.461822509765625,
          25.502920150756836,
          25.398399353027344,
          25.99144744873047,
          25.664783477783203,
          25.872243881225586,
          25.512739181518555,
          25.131553649902344,
          25.605121612548828,
          25.60493278503418,
          25.938196182250977,
          25.634958267211914,
          25.940563201904297,
          25.448684692382812,
          25.253164291381836,
          25.20203971862793,
          25.820545196533203,
          25.0767879486084,
          25.13408851623535,
          26.090404510498047,
          25.405982971191406,
          25.559268951416016,
          25.686634063720703,
          26.055578231811523,
          25.571504592895508,
          25.409971237182617,
          25.389589309692383,
          25.607831954956055,
          25.265840530395508,
          26.020647048950195,
          25.85379409790039,
          25.062400817871094,
          25.4724063873291,
          25.061723709106445,
          24.885150909423828,
          25.15306854248047,
          25.500469207763672,
          24.444978713989258,
          24.862533569335938,
          24.173656463623047,
          24.697511672973633,
          24.873247146606445,
          25.30011749267578,
          25.396102905273438,
          25.00533676147461,
          24.86203384399414,
          24.824098587036133,
          25.472614288330078,
          25.25142478942871,
          25.26520347595215,
          25.29974365234375,
          24.994216918945312,
          24.682767868041992,
          24.898181915283203,
          24.726816177368164,
          24.786481857299805,
          24.758777618408203,
          24.877042770385742,
          24.94348907470703,
          24.552928924560547,
          24.91607666015625,
          24.935564041137695,
          24.555986404418945,
          24.180429458618164,
          24.678190231323242,
          24.736793518066406,
          24.670194625854492,
          24.69109535217285,
          23.62755584716797,
          24.296716690063477,
          24.253416061401367,
          24.509416580200195,
          24.595048904418945,
          24.814037322998047,
          24.71473503112793,
          24.72461700439453,
          24.5401611328125,
          25.074026107788086,
          25.57774543762207,
          25.826892852783203,
          25.70130157470703,
          25.339406967163086,
          25.110857009887695,
          24.831737518310547,
          24.736188888549805,
          24.77528953552246,
          24.972164154052734,
          24.596179962158203,
          23.772966384887695,
          23.481319427490234,
          23.93396759033203,
          23.903470993041992,
          24.811193466186523,
          23.985759735107422,
          23.21492576599121,
          23.453046798706055,
          23.430513381958008,
          23.30509376525879,
          23.413921356201172,
          23.85723114013672,
          23.85032081604004,
          23.869441986083984,
          22.93042755126953,
          22.980117797851562,
          22.868879318237305,
          23.07505989074707,
          23.845033645629883,
          24.03369903564453,
          23.258949279785156,
          23.329933166503906,
          23.477128982543945,
          23.473628997802734,
          23.96105194091797,
          23.656829833984375,
          22.978010177612305
         ]
        },
        {
         "mode": "lines",
         "name": "Actual Temperature",
         "type": "scatter",
         "x": [
          "2022-01-01T00:00:00",
          "2022-01-02T00:00:00",
          "2022-01-03T00:00:00",
          "2022-01-04T00:00:00",
          "2022-01-05T00:00:00",
          "2022-01-06T00:00:00",
          "2022-01-07T00:00:00",
          "2022-01-08T00:00:00",
          "2022-01-09T00:00:00",
          "2022-01-10T00:00:00",
          "2022-01-11T00:00:00",
          "2022-01-12T00:00:00",
          "2022-01-13T00:00:00",
          "2022-01-14T00:00:00",
          "2022-01-15T00:00:00",
          "2022-01-16T00:00:00",
          "2022-01-17T00:00:00",
          "2022-01-18T00:00:00",
          "2022-01-19T00:00:00",
          "2022-01-20T00:00:00",
          "2022-01-21T00:00:00",
          "2022-01-22T00:00:00",
          "2022-01-23T00:00:00",
          "2022-01-24T00:00:00",
          "2022-01-25T00:00:00",
          "2022-01-26T00:00:00",
          "2022-01-27T00:00:00",
          "2022-01-28T00:00:00",
          "2022-01-29T00:00:00",
          "2022-01-30T00:00:00",
          "2022-01-31T00:00:00",
          "2022-02-01T00:00:00",
          "2022-02-02T00:00:00",
          "2022-02-03T00:00:00",
          "2022-02-04T00:00:00",
          "2022-02-05T00:00:00",
          "2022-02-06T00:00:00",
          "2022-02-07T00:00:00",
          "2022-02-08T00:00:00",
          "2022-02-09T00:00:00",
          "2022-02-10T00:00:00",
          "2022-02-11T00:00:00",
          "2022-02-12T00:00:00",
          "2022-02-13T00:00:00",
          "2022-02-14T00:00:00",
          "2022-02-15T00:00:00",
          "2022-02-16T00:00:00",
          "2022-02-17T00:00:00",
          "2022-02-18T00:00:00",
          "2022-02-19T00:00:00",
          "2022-02-20T00:00:00",
          "2022-02-21T00:00:00",
          "2022-02-22T00:00:00",
          "2022-02-23T00:00:00",
          "2022-02-24T00:00:00",
          "2022-02-25T00:00:00",
          "2022-02-26T00:00:00",
          "2022-02-27T00:00:00",
          "2022-02-28T00:00:00",
          "2022-03-01T00:00:00",
          "2022-03-02T00:00:00",
          "2022-03-03T00:00:00",
          "2022-03-04T00:00:00",
          "2022-03-05T00:00:00",
          "2022-03-06T00:00:00",
          "2022-03-07T00:00:00",
          "2022-03-08T00:00:00",
          "2022-03-09T00:00:00",
          "2022-03-10T00:00:00",
          "2022-03-11T00:00:00",
          "2022-03-12T00:00:00",
          "2022-03-13T00:00:00",
          "2022-03-14T00:00:00",
          "2022-03-15T00:00:00",
          "2022-03-16T00:00:00",
          "2022-03-17T00:00:00",
          "2022-03-18T00:00:00",
          "2022-03-19T00:00:00",
          "2022-03-20T00:00:00",
          "2022-03-21T00:00:00",
          "2022-03-22T00:00:00",
          "2022-03-23T00:00:00",
          "2022-03-24T00:00:00",
          "2022-03-25T00:00:00",
          "2022-03-26T00:00:00",
          "2022-03-27T00:00:00",
          "2022-03-28T00:00:00",
          "2022-03-29T00:00:00",
          "2022-03-30T00:00:00",
          "2022-03-31T00:00:00",
          "2022-04-01T00:00:00",
          "2022-04-02T00:00:00",
          "2022-04-03T00:00:00",
          "2022-04-04T00:00:00",
          "2022-04-05T00:00:00",
          "2022-04-06T00:00:00",
          "2022-04-07T00:00:00",
          "2022-04-08T00:00:00",
          "2022-04-09T00:00:00",
          "2022-04-10T00:00:00",
          "2022-04-11T00:00:00",
          "2022-04-12T00:00:00",
          "2022-04-13T00:00:00",
          "2022-04-14T00:00:00",
          "2022-04-15T00:00:00",
          "2022-04-16T00:00:00",
          "2022-04-17T00:00:00",
          "2022-04-18T00:00:00",
          "2022-04-19T00:00:00",
          "2022-04-20T00:00:00",
          "2022-04-21T00:00:00",
          "2022-04-22T00:00:00",
          "2022-04-23T00:00:00",
          "2022-04-24T00:00:00",
          "2022-04-25T00:00:00",
          "2022-04-26T00:00:00",
          "2022-04-27T00:00:00",
          "2022-04-28T00:00:00",
          "2022-04-29T00:00:00",
          "2022-04-30T00:00:00",
          "2022-05-01T00:00:00",
          "2022-05-02T00:00:00",
          "2022-05-03T00:00:00",
          "2022-05-04T00:00:00",
          "2022-05-05T00:00:00",
          "2022-05-06T00:00:00",
          "2022-05-07T00:00:00",
          "2022-05-08T00:00:00",
          "2022-05-09T00:00:00",
          "2022-05-10T00:00:00",
          "2022-05-11T00:00:00",
          "2022-05-12T00:00:00",
          "2022-05-13T00:00:00",
          "2022-05-14T00:00:00",
          "2022-05-15T00:00:00",
          "2022-05-16T00:00:00",
          "2022-05-17T00:00:00",
          "2022-05-18T00:00:00",
          "2022-05-19T00:00:00",
          "2022-05-20T00:00:00",
          "2022-05-21T00:00:00",
          "2022-05-22T00:00:00",
          "2022-05-23T00:00:00",
          "2022-05-24T00:00:00",
          "2022-05-25T00:00:00",
          "2022-05-26T00:00:00",
          "2022-05-27T00:00:00",
          "2022-05-28T00:00:00",
          "2022-05-29T00:00:00",
          "2022-05-30T00:00:00",
          "2022-05-31T00:00:00",
          "2022-06-01T00:00:00",
          "2022-06-02T00:00:00",
          "2022-06-03T00:00:00",
          "2022-06-04T00:00:00",
          "2022-06-05T00:00:00",
          "2022-06-06T00:00:00",
          "2022-06-07T00:00:00",
          "2022-06-08T00:00:00",
          "2022-06-09T00:00:00",
          "2022-06-10T00:00:00",
          "2022-06-11T00:00:00",
          "2022-06-12T00:00:00",
          "2022-06-13T00:00:00",
          "2022-06-14T00:00:00",
          "2022-06-15T00:00:00",
          "2022-06-16T00:00:00",
          "2022-06-17T00:00:00",
          "2022-06-18T00:00:00",
          "2022-06-19T00:00:00",
          "2022-06-20T00:00:00",
          "2022-06-21T00:00:00",
          "2022-06-22T00:00:00",
          "2022-06-23T00:00:00",
          "2022-06-24T00:00:00",
          "2022-06-25T00:00:00",
          "2022-06-26T00:00:00",
          "2022-06-27T00:00:00",
          "2022-06-28T00:00:00",
          "2022-06-29T00:00:00",
          "2022-06-30T00:00:00",
          "2022-07-01T00:00:00",
          "2022-07-02T00:00:00",
          "2022-07-03T00:00:00",
          "2022-07-04T00:00:00",
          "2022-07-05T00:00:00",
          "2022-07-06T00:00:00",
          "2022-07-07T00:00:00",
          "2022-07-08T00:00:00",
          "2022-07-09T00:00:00",
          "2022-07-10T00:00:00",
          "2022-07-11T00:00:00",
          "2022-07-12T00:00:00",
          "2022-07-13T00:00:00",
          "2022-07-14T00:00:00",
          "2022-07-15T00:00:00",
          "2022-07-16T00:00:00",
          "2022-07-17T00:00:00",
          "2022-07-18T00:00:00",
          "2022-07-19T00:00:00",
          "2022-07-20T00:00:00",
          "2022-07-21T00:00:00",
          "2022-07-22T00:00:00",
          "2022-07-23T00:00:00",
          "2022-07-24T00:00:00",
          "2022-07-25T00:00:00",
          "2022-07-26T00:00:00",
          "2022-07-27T00:00:00",
          "2022-07-28T00:00:00",
          "2022-07-29T00:00:00",
          "2022-07-30T00:00:00",
          "2022-07-31T00:00:00",
          "2022-08-01T00:00:00",
          "2022-08-02T00:00:00",
          "2022-08-03T00:00:00",
          "2022-08-04T00:00:00",
          "2022-08-05T00:00:00",
          "2022-08-06T00:00:00",
          "2022-08-07T00:00:00",
          "2022-08-08T00:00:00",
          "2022-08-09T00:00:00",
          "2022-08-10T00:00:00",
          "2022-08-11T00:00:00",
          "2022-08-12T00:00:00",
          "2022-08-13T00:00:00",
          "2022-08-14T00:00:00",
          "2022-08-15T00:00:00",
          "2022-08-16T00:00:00",
          "2022-08-17T00:00:00",
          "2022-08-18T00:00:00",
          "2022-08-19T00:00:00",
          "2022-08-20T00:00:00",
          "2022-08-21T00:00:00",
          "2022-08-22T00:00:00",
          "2022-08-23T00:00:00",
          "2022-08-24T00:00:00",
          "2022-08-25T00:00:00",
          "2022-08-26T00:00:00",
          "2022-08-27T00:00:00",
          "2022-08-28T00:00:00",
          "2022-08-29T00:00:00",
          "2022-08-30T00:00:00",
          "2022-08-31T00:00:00",
          "2022-09-01T00:00:00",
          "2022-09-02T00:00:00",
          "2022-09-03T00:00:00",
          "2022-09-04T00:00:00",
          "2022-09-05T00:00:00",
          "2022-09-06T00:00:00",
          "2022-09-07T00:00:00",
          "2022-09-08T00:00:00",
          "2022-09-09T00:00:00",
          "2022-09-10T00:00:00",
          "2022-09-11T00:00:00",
          "2022-09-12T00:00:00",
          "2022-09-13T00:00:00",
          "2022-09-14T00:00:00",
          "2022-09-15T00:00:00",
          "2022-09-16T00:00:00",
          "2022-09-17T00:00:00",
          "2022-09-18T00:00:00",
          "2022-09-19T00:00:00",
          "2022-09-20T00:00:00",
          "2022-09-21T00:00:00",
          "2022-09-22T00:00:00",
          "2022-09-23T00:00:00",
          "2022-09-24T00:00:00",
          "2022-09-25T00:00:00",
          "2022-09-26T00:00:00",
          "2022-09-27T00:00:00",
          "2022-09-28T00:00:00",
          "2022-09-29T00:00:00",
          "2022-09-30T00:00:00",
          "2022-10-01T00:00:00",
          "2022-10-02T00:00:00",
          "2022-10-03T00:00:00",
          "2022-10-04T00:00:00",
          "2022-10-05T00:00:00",
          "2022-10-06T00:00:00",
          "2022-10-07T00:00:00",
          "2022-10-08T00:00:00",
          "2022-10-09T00:00:00",
          "2022-10-10T00:00:00",
          "2022-10-11T00:00:00",
          "2022-10-12T00:00:00",
          "2022-10-13T00:00:00",
          "2022-10-14T00:00:00",
          "2022-10-15T00:00:00",
          "2022-10-16T00:00:00",
          "2022-10-17T00:00:00",
          "2022-10-18T00:00:00",
          "2022-10-19T00:00:00",
          "2022-10-20T00:00:00",
          "2022-10-21T00:00:00",
          "2022-10-22T00:00:00",
          "2022-10-23T00:00:00",
          "2022-10-24T00:00:00",
          "2022-10-25T00:00:00",
          "2022-10-26T00:00:00",
          "2022-10-27T00:00:00",
          "2022-10-28T00:00:00",
          "2022-10-29T00:00:00",
          "2022-10-30T00:00:00",
          "2022-10-31T00:00:00",
          "2022-11-01T00:00:00"
         ],
         "y": [
          26.15,
          25.2,
          25.6,
          24.6,
          24.5,
          25.1,
          24.3,
          23.9,
          24.8,
          24,
          24.1,
          24.1,
          24.2,
          24.7,
          25.2,
          25.2,
          26,
          26.2,
          25.5,
          25.9,
          24.9,
          23.1,
          22.4,
          22.6,
          22.9,
          23.8,
          24.2,
          24.7,
          24.9,
          24.3,
          24.05,
          24.8,
          24.5,
          24.7,
          25.9,
          25.7,
          26,
          24.7,
          26.2,
          26.7,
          25.950000000000003,
          26.2,
          25.7,
          25.3,
          25.4,
          25.7,
          25,
          26,
          25.4,
          25.1,
          26,
          26.3,
          26.3,
          26,
          25.9,
          25.6,
          24.4,
          24.8,
          24.6,
          24.5,
          24.9,
          25.1,
          25.9,
          25.6,
          25.6,
          25.3,
          25.9,
          25.9,
          26.2,
          26.4,
          26.25,
          25.2,
          26,
          26.3,
          26.3,
          26,
          25.6,
          25.5,
          26.6,
          27.5,
          26.4,
          26.15,
          25.9,
          25.8,
          25.5,
          26.4,
          26.3,
          26.1,
          26.8,
          26,
          26.2,
          26,
          26.1,
          26.3,
          26.7,
          25.5,
          25.9,
          26.5,
          27.1,
          27.6,
          27.2,
          26.65,
          27.8,
          27,
          27.3,
          27.9,
          28,
          26.3,
          26.9,
          27.5,
          26.4,
          26.2,
          25.7,
          26.3,
          25.7,
          25.5,
          25.3,
          26.3,
          25.4,
          25.4,
          25.1,
          25.65,
          25.1,
          26,
          25.5,
          24.9,
          25.9,
          25.7,
          25.3,
          25.7,
          25.2,
          25,
          26.4,
          26.4,
          25.6,
          26,
          25.6,
          26.3,
          26.6,
          26.9,
          26.2,
          25.950000000000003,
          26.4,
          26,
          25.9,
          25.5,
          25.7,
          26.1,
          26.7,
          26.6,
          27.1,
          26.7,
          26.4,
          25.5,
          27.4,
          26.7,
          26.3,
          26.4,
          25.8,
          25.6,
          25.7,
          25.9,
          25.799999999999997,
          25.8,
          26,
          26.1,
          25.6,
          25.3,
          25.3,
          26.2,
          25.5,
          26.2,
          26.200000000000003,
          26.5,
          27,
          26.1,
          25.4,
          25.5,
          26.1,
          26,
          26.4,
          26.1,
          25.75,
          25.6,
          26.8,
          25.7,
          25.9,
          25.6,
          25.3,
          25.3,
          25.3,
          25.2,
          25.45,
          25.5,
          25.6,
          25.9,
          25.5,
          25.7,
          25.8,
          25.3,
          24.8,
          26.3,
          25.45,
          25.1,
          24.9,
          25.3,
          25.3,
          25.6,
          26.1,
          25.2,
          25.3,
          25.4,
          26.05,
          25.5,
          25.8,
          25.7,
          25.8,
          25.3,
          26.2,
          25.8,
          25.4,
          25.9,
          25.6,
          24.9,
          25,
          25.3,
          24.2,
          24.8,
          24.4,
          25,
          25.3,
          25.5,
          25.3,
          25.75,
          25.4,
          25.3,
          25.5,
          25.2,
          25.2,
          25.1,
          24.5,
          25,
          25.4,
          25.1,
          25,
          24.6,
          24.7,
          25.4,
          24.9,
          25.6,
          25.2,
          24.7,
          24.3,
          24.700000000000003,
          24.9,
          25,
          24.7,
          23.6,
          24.1,
          24.6,
          24.7,
          24.8,
          25,
          25.15,
          24.8,
          24.7,
          25.5,
          26,
          25.9,
          26.3,
          25.9,
          25,
          25,
          24.950000000000003,
          25.2,
          25.3,
          24.3,
          24.1,
          23.5,
          24.3,
          24.1,
          25.4,
          24.6,
          23.1,
          23.3,
          23.1,
          23.6,
          24,
          25.1,
          24.3,
          24.3,
          23.2,
          22.9,
          22.85,
          23.3,
          24,
          24.6,
          23.7,
          24,
          24.1,
          23.8,
          24.4,
          24.4,
          23.7,
          24.4
         ]
        }
       ],
       "layout": {
        "template": {
         "data": {
          "bar": [
           {
            "error_x": {
             "color": "#2a3f5f"
            },
            "error_y": {
             "color": "#2a3f5f"
            },
            "marker": {
             "line": {
              "color": "#E5ECF6",
              "width": 0.5
             },
             "pattern": {
              "fillmode": "overlay",
              "size": 10,
              "solidity": 0.2
             }
            },
            "type": "bar"
           }
          ],
          "barpolar": [
           {
            "marker": {
             "line": {
              "color": "#E5ECF6",
              "width": 0.5
             },
             "pattern": {
              "fillmode": "overlay",
              "size": 10,
              "solidity": 0.2
             }
            },
            "type": "barpolar"
           }
          ],
          "carpet": [
           {
            "aaxis": {
             "endlinecolor": "#2a3f5f",
             "gridcolor": "white",
             "linecolor": "white",
             "minorgridcolor": "white",
             "startlinecolor": "#2a3f5f"
            },
            "baxis": {
             "endlinecolor": "#2a3f5f",
             "gridcolor": "white",
             "linecolor": "white",
             "minorgridcolor": "white",
             "startlinecolor": "#2a3f5f"
            },
            "type": "carpet"
           }
          ],
          "choropleth": [
           {
            "colorbar": {
             "outlinewidth": 0,
             "ticks": ""
            },
            "type": "choropleth"
           }
          ],
          "contour": [
           {
            "colorbar": {
             "outlinewidth": 0,
             "ticks": ""
            },
            "colorscale": [
             [
              0,
              "#0d0887"
             ],
             [
              0.1111111111111111,
              "#46039f"
             ],
             [
              0.2222222222222222,
              "#7201a8"
             ],
             [
              0.3333333333333333,
              "#9c179e"
             ],
             [
              0.4444444444444444,
              "#bd3786"
             ],
             [
              0.5555555555555556,
              "#d8576b"
             ],
             [
              0.6666666666666666,
              "#ed7953"
             ],
             [
              0.7777777777777778,
              "#fb9f3a"
             ],
             [
              0.8888888888888888,
              "#fdca26"
             ],
             [
              1,
              "#f0f921"
             ]
            ],
            "type": "contour"
           }
          ],
          "contourcarpet": [
           {
            "colorbar": {
             "outlinewidth": 0,
             "ticks": ""
            },
            "type": "contourcarpet"
           }
          ],
          "heatmap": [
           {
            "colorbar": {
             "outlinewidth": 0,
             "ticks": ""
            },
            "colorscale": [
             [
              0,
              "#0d0887"
             ],
             [
              0.1111111111111111,
              "#46039f"
             ],
             [
              0.2222222222222222,
              "#7201a8"
             ],
             [
              0.3333333333333333,
              "#9c179e"
             ],
             [
              0.4444444444444444,
              "#bd3786"
             ],
             [
              0.5555555555555556,
              "#d8576b"
             ],
             [
              0.6666666666666666,
              "#ed7953"
             ],
             [
              0.7777777777777778,
              "#fb9f3a"
             ],
             [
              0.8888888888888888,
              "#fdca26"
             ],
             [
              1,
              "#f0f921"
             ]
            ],
            "type": "heatmap"
           }
          ],
          "heatmapgl": [
           {
            "colorbar": {
             "outlinewidth": 0,
             "ticks": ""
            },
            "colorscale": [
             [
              0,
              "#0d0887"
             ],
             [
              0.1111111111111111,
              "#46039f"
             ],
             [
              0.2222222222222222,
              "#7201a8"
             ],
             [
              0.3333333333333333,
              "#9c179e"
             ],
             [
              0.4444444444444444,
              "#bd3786"
             ],
             [
              0.5555555555555556,
              "#d8576b"
             ],
             [
              0.6666666666666666,
              "#ed7953"
             ],
             [
              0.7777777777777778,
              "#fb9f3a"
             ],
             [
              0.8888888888888888,
              "#fdca26"
             ],
             [
              1,
              "#f0f921"
             ]
            ],
            "type": "heatmapgl"
           }
          ],
          "histogram": [
           {
            "marker": {
             "pattern": {
              "fillmode": "overlay",
              "size": 10,
              "solidity": 0.2
             }
            },
            "type": "histogram"
           }
          ],
          "histogram2d": [
           {
            "colorbar": {
             "outlinewidth": 0,
             "ticks": ""
            },
            "colorscale": [
             [
              0,
              "#0d0887"
             ],
             [
              0.1111111111111111,
              "#46039f"
             ],
             [
              0.2222222222222222,
              "#7201a8"
             ],
             [
              0.3333333333333333,
              "#9c179e"
             ],
             [
              0.4444444444444444,
              "#bd3786"
             ],
             [
              0.5555555555555556,
              "#d8576b"
             ],
             [
              0.6666666666666666,
              "#ed7953"
             ],
             [
              0.7777777777777778,
              "#fb9f3a"
             ],
             [
              0.8888888888888888,
              "#fdca26"
             ],
             [
              1,
              "#f0f921"
             ]
            ],
            "type": "histogram2d"
           }
          ],
          "histogram2dcontour": [
           {
            "colorbar": {
             "outlinewidth": 0,
             "ticks": ""
            },
            "colorscale": [
             [
              0,
              "#0d0887"
             ],
             [
              0.1111111111111111,
              "#46039f"
             ],
             [
              0.2222222222222222,
              "#7201a8"
             ],
             [
              0.3333333333333333,
              "#9c179e"
             ],
             [
              0.4444444444444444,
              "#bd3786"
             ],
             [
              0.5555555555555556,
              "#d8576b"
             ],
             [
              0.6666666666666666,
              "#ed7953"
             ],
             [
              0.7777777777777778,
              "#fb9f3a"
             ],
             [
              0.8888888888888888,
              "#fdca26"
             ],
             [
              1,
              "#f0f921"
             ]
            ],
            "type": "histogram2dcontour"
           }
          ],
          "mesh3d": [
           {
            "colorbar": {
             "outlinewidth": 0,
             "ticks": ""
            },
            "type": "mesh3d"
           }
          ],
          "parcoords": [
           {
            "line": {
             "colorbar": {
              "outlinewidth": 0,
              "ticks": ""
             }
            },
            "type": "parcoords"
           }
          ],
          "pie": [
           {
            "automargin": true,
            "type": "pie"
           }
          ],
          "scatter": [
           {
            "fillpattern": {
             "fillmode": "overlay",
             "size": 10,
             "solidity": 0.2
            },
            "type": "scatter"
           }
          ],
          "scatter3d": [
           {
            "line": {
             "colorbar": {
              "outlinewidth": 0,
              "ticks": ""
             }
            },
            "marker": {
             "colorbar": {
              "outlinewidth": 0,
              "ticks": ""
             }
            },
            "type": "scatter3d"
           }
          ],
          "scattercarpet": [
           {
            "marker": {
             "colorbar": {
              "outlinewidth": 0,
              "ticks": ""
             }
            },
            "type": "scattercarpet"
           }
          ],
          "scattergeo": [
           {
            "marker": {
             "colorbar": {
              "outlinewidth": 0,
              "ticks": ""
             }
            },
            "type": "scattergeo"
           }
          ],
          "scattergl": [
           {
            "marker": {
             "colorbar": {
              "outlinewidth": 0,
              "ticks": ""
             }
            },
            "type": "scattergl"
           }
          ],
          "scattermapbox": [
           {
            "marker": {
             "colorbar": {
              "outlinewidth": 0,
              "ticks": ""
             }
            },
            "type": "scattermapbox"
           }
          ],
          "scatterpolar": [
           {
            "marker": {
             "colorbar": {
              "outlinewidth": 0,
              "ticks": ""
             }
            },
            "type": "scatterpolar"
           }
          ],
          "scatterpolargl": [
           {
            "marker": {
             "colorbar": {
              "outlinewidth": 0,
              "ticks": ""
             }
            },
            "type": "scatterpolargl"
           }
          ],
          "scatterternary": [
           {
            "marker": {
             "colorbar": {
              "outlinewidth": 0,
              "ticks": ""
             }
            },
            "type": "scatterternary"
           }
          ],
          "surface": [
           {
            "colorbar": {
             "outlinewidth": 0,
             "ticks": ""
            },
            "colorscale": [
             [
              0,
              "#0d0887"
             ],
             [
              0.1111111111111111,
              "#46039f"
             ],
             [
              0.2222222222222222,
              "#7201a8"
             ],
             [
              0.3333333333333333,
              "#9c179e"
             ],
             [
              0.4444444444444444,
              "#bd3786"
             ],
             [
              0.5555555555555556,
              "#d8576b"
             ],
             [
              0.6666666666666666,
              "#ed7953"
             ],
             [
              0.7777777777777778,
              "#fb9f3a"
             ],
             [
              0.8888888888888888,
              "#fdca26"
             ],
             [
              1,
              "#f0f921"
             ]
            ],
            "type": "surface"
           }
          ],
          "table": [
           {
            "cells": {
             "fill": {
              "color": "#EBF0F8"
             },
             "line": {
              "color": "white"
             }
            },
            "header": {
             "fill": {
              "color": "#C8D4E3"
             },
             "line": {
              "color": "white"
             }
            },
            "type": "table"
           }
          ]
         },
         "layout": {
          "annotationdefaults": {
           "arrowcolor": "#2a3f5f",
           "arrowhead": 0,
           "arrowwidth": 1
          },
          "autotypenumbers": "strict",
          "coloraxis": {
           "colorbar": {
            "outlinewidth": 0,
            "ticks": ""
           }
          },
          "colorscale": {
           "diverging": [
            [
             0,
             "#8e0152"
            ],
            [
             0.1,
             "#c51b7d"
            ],
            [
             0.2,
             "#de77ae"
            ],
            [
             0.3,
             "#f1b6da"
            ],
            [
             0.4,
             "#fde0ef"
            ],
            [
             0.5,
             "#f7f7f7"
            ],
            [
             0.6,
             "#e6f5d0"
            ],
            [
             0.7,
             "#b8e186"
            ],
            [
             0.8,
             "#7fbc41"
            ],
            [
             0.9,
             "#4d9221"
            ],
            [
             1,
             "#276419"
            ]
           ],
           "sequential": [
            [
             0,
             "#0d0887"
            ],
            [
             0.1111111111111111,
             "#46039f"
            ],
            [
             0.2222222222222222,
             "#7201a8"
            ],
            [
             0.3333333333333333,
             "#9c179e"
            ],
            [
             0.4444444444444444,
             "#bd3786"
            ],
            [
             0.5555555555555556,
             "#d8576b"
            ],
            [
             0.6666666666666666,
             "#ed7953"
            ],
            [
             0.7777777777777778,
             "#fb9f3a"
            ],
            [
             0.8888888888888888,
             "#fdca26"
            ],
            [
             1,
             "#f0f921"
            ]
           ],
           "sequentialminus": [
            [
             0,
             "#0d0887"
            ],
            [
             0.1111111111111111,
             "#46039f"
            ],
            [
             0.2222222222222222,
             "#7201a8"
            ],
            [
             0.3333333333333333,
             "#9c179e"
            ],
            [
             0.4444444444444444,
             "#bd3786"
            ],
            [
             0.5555555555555556,
             "#d8576b"
            ],
            [
             0.6666666666666666,
             "#ed7953"
            ],
            [
             0.7777777777777778,
             "#fb9f3a"
            ],
            [
             0.8888888888888888,
             "#fdca26"
            ],
            [
             1,
             "#f0f921"
            ]
           ]
          },
          "colorway": [
           "#636efa",
           "#EF553B",
           "#00cc96",
           "#ab63fa",
           "#FFA15A",
           "#19d3f3",
           "#FF6692",
           "#B6E880",
           "#FF97FF",
           "#FECB52"
          ],
          "font": {
           "color": "#2a3f5f"
          },
          "geo": {
           "bgcolor": "white",
           "lakecolor": "white",
           "landcolor": "#E5ECF6",
           "showlakes": true,
           "showland": true,
           "subunitcolor": "white"
          },
          "hoverlabel": {
           "align": "left"
          },
          "hovermode": "closest",
          "mapbox": {
           "style": "light"
          },
          "paper_bgcolor": "white",
          "plot_bgcolor": "#E5ECF6",
          "polar": {
           "angularaxis": {
            "gridcolor": "white",
            "linecolor": "white",
            "ticks": ""
           },
           "bgcolor": "#E5ECF6",
           "radialaxis": {
            "gridcolor": "white",
            "linecolor": "white",
            "ticks": ""
           }
          },
          "scene": {
           "xaxis": {
            "backgroundcolor": "#E5ECF6",
            "gridcolor": "white",
            "gridwidth": 2,
            "linecolor": "white",
            "showbackground": true,
            "ticks": "",
            "zerolinecolor": "white"
           },
           "yaxis": {
            "backgroundcolor": "#E5ECF6",
            "gridcolor": "white",
            "gridwidth": 2,
            "linecolor": "white",
            "showbackground": true,
            "ticks": "",
            "zerolinecolor": "white"
           },
           "zaxis": {
            "backgroundcolor": "#E5ECF6",
            "gridcolor": "white",
            "gridwidth": 2,
            "linecolor": "white",
            "showbackground": true,
            "ticks": "",
            "zerolinecolor": "white"
           }
          },
          "shapedefaults": {
           "line": {
            "color": "#2a3f5f"
           }
          },
          "ternary": {
           "aaxis": {
            "gridcolor": "white",
            "linecolor": "white",
            "ticks": ""
           },
           "baxis": {
            "gridcolor": "white",
            "linecolor": "white",
            "ticks": ""
           },
           "bgcolor": "#E5ECF6",
           "caxis": {
            "gridcolor": "white",
            "linecolor": "white",
            "ticks": ""
           }
          },
          "title": {
           "x": 0.05
          },
          "xaxis": {
           "automargin": true,
           "gridcolor": "white",
           "linecolor": "white",
           "ticks": "",
           "title": {
            "standoff": 15
           },
           "zerolinecolor": "white",
           "zerolinewidth": 2
          },
          "yaxis": {
           "automargin": true,
           "gridcolor": "white",
           "linecolor": "white",
           "ticks": "",
           "title": {
            "standoff": 15
           },
           "zerolinecolor": "white",
           "zerolinewidth": 2
          }
         }
        },
        "title": {
         "text": "Actual vs Predicted Temperature Daily"
        },
        "xaxis": {
         "title": {
          "text": "Date"
         }
        },
        "yaxis": {
         "title": {
          "text": "Temperature (°C)"
         }
        }
       }
      }
     },
     "metadata": {},
     "output_type": "display_data"
    }
   ],
   "source": [
    "import plotly.graph_objs as go\n",
    " \n",
    "# The dataset datetime is in dataframe, the array does not include it. Set the array with relative to dataframe datetimes\n",
    "array = predict \n",
    "array1 = y\n",
    "dates = pd.date_range(start='1/1/2022',end ='11/1/2022', periods=len(array))  \n",
    "dates1 = pd.date_range(start='1/1/2022',end ='11/1/2022', periods=len(array1))  \n",
    "\n",
    "\n",
    "df = pd.DataFrame(array, index=dates, columns=['Value'])\n",
    "df_resampled = df.resample('D').mean()\n",
    "\n",
    "\n",
    "df1 = pd.DataFrame(array1, index=dates1, columns=['Value'])\n",
    "df_resampled1 = df1.resample('D').mean()\n",
    "\n",
    "fig = go.Figure()\n",
    "fig.add_trace(go.Scatter(x=df_resampled.index, y=df_resampled['Value'], mode=\"lines\", name='pred'))\n",
    "\n",
    "# Plot actual temperature\n",
    "fig.add_trace(go.Scatter(x=df_resampled1.index, y=df_resampled1['Value'], mode='lines', name='Actual Temperature'))\n",
    "\n",
    "# Update layout\n",
    "fig.update_layout(title='Actual vs Predicted Temperature Daily',\n",
    "                  xaxis_title='Date',\n",
    "                  yaxis_title='Temperature (°C)')\n",
    "fig.show()"
   ]
  }
 ],
 "metadata": {
  "kernelspec": {
   "display_name": "Python 3",
   "language": "python",
   "name": "python3"
  },
  "language_info": {
   "codemirror_mode": {
    "name": "ipython",
    "version": 3
   },
   "file_extension": ".py",
   "mimetype": "text/x-python",
   "name": "python",
   "nbconvert_exporter": "python",
   "pygments_lexer": "ipython3",
   "version": "3.10.11"
  }
 },
 "nbformat": 4,
 "nbformat_minor": 2
}
