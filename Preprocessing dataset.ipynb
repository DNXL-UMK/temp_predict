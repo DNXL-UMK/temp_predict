{
 "cells": [
  {
   "cell_type": "code",
   "execution_count": 1,
   "metadata": {},
   "outputs": [],
   "source": [
    "import pandas as pd\n",
    "import numpy as np\n",
    "from sklearn.preprocessing import MinMaxScaler, StandardScaler\n",
    "from sklearn.preprocessing import OneHotEncoder, LabelEncoder\n",
    "from sklearn.model_selection import train_test_split\n",
    "from keras.models import Sequential\n",
    "from keras.layers import LSTM, Dense, Dropout\n",
    "from keras.callbacks import EarlyStopping\n",
    "import matplotlib.pyplot as plt\n",
    "import plotly.graph_objs as go"
   ]
  },
  {
   "cell_type": "code",
   "execution_count": 2,
   "metadata": {},
   "outputs": [],
   "source": [
    "file = \"C:/Users/USER/Downloads/include_january_all_param.xlsx\"\n",
    "data = pd.read_excel(file,header=3,parse_dates =[\"time\"], index_col =\"time\")"
   ]
  },
  {
   "cell_type": "code",
   "execution_count": 3,
   "metadata": {},
   "outputs": [
    {
     "name": "stdout",
     "output_type": "stream",
     "text": [
      "There were some columns deleted, reason unrelated/redundance/development column\n"
     ]
    }
   ],
   "source": [
    "columns_to_rename = [\n",
    "    \"weather_code (wmo code)\",\n",
    "    \"temperature_2m_max (°C)\",\n",
    "    \"temperature_2m_min (°C)\",\n",
    "    \"temperature_2m_mean (°C)\",\n",
    "    \"apparent_temperature_max (°C)\",\n",
    "    \"apparent_temperature_min (°C)\",\n",
    "    \"apparent_temperature_mean (°C)\",\n",
    "    \"sunrise (iso8601)\",\n",
    "    \"sunset (iso8601)\",\n",
    "    \"daylight_duration (s)\",\n",
    "    \"sunshine_duration (s)\",\n",
    "    \"rain_sum (mm)\",\n",
    "    \"precipitation_hours (h)\",\n",
    "    \"wind_speed_10m_max (km/h)\",\n",
    "    \"wind_gusts_10m_max (km/h)\",\n",
    "    \"wind_direction_10m_dominant (°)\",\n",
    "    \"shortwave_radiation_sum (MJ/m²)\",\n",
    "    \"et0_fao_evapotranspiration (mm)\"\n",
    "]\n",
    "\n",
    "if len(columns_to_rename) != len(data.columns):\n",
    "    print(\"There were some columns deleted, reason unrelated/redundance/development column\")\n",
    "\n",
    "data = data[columns_to_rename]\n",
    "# Continue with renaming the columns\n",
    "\n",
    "\n",
    "data.rename(columns={\n",
    "    \"weather_code (wmo code)\": 'weather_code',\n",
    "    \"temperature_2m_max (°C)\": 'temperature_2m_max',\n",
    "    \"temperature_2m_min (°C)\": 'temperature_2m_min',\n",
    "    \"temperature_2m_mean (°C)\": 'temperature_2m_mean',\n",
    "    \"apparent_temperature_max (°C)\": 'apparent_temperature_max',\n",
    "    \"apparent_temperature_min (°C)\": 'apparent_temperature_min ',\n",
    "    \"apparent_temperature_mean (°C)\":'apparent_temperature_mean',\n",
    "    \"sunrise (iso8601)\"\t: 'sunrise',\n",
    "    \"sunset (iso8601)\"\t: 'sunset',\n",
    "    \"daylight_duration (s)\" : 'daylight_duration',\n",
    "    \"sunshine_duration (s)\"\t: 'sunshine_duration',\n",
    "    \"rain_sum (mm)\" : 'rain_sum',\n",
    "    \"precipitation_hours (h)\"  : 'precipitation_hours',\n",
    "    \"wind_speed_10m_max (km/h)\" : 'wind_speed_10m_max',\n",
    "    \"wind_gusts_10m_max (km/h)\" : 'wind_gusts_10m_max',\n",
    "    \"wind_direction_10m_dominant (°)\" : 'wind_direction_10m_dominant',\n",
    "    \"shortwave_radiation_sum (MJ/m²)\" : 'shortwave_radiation_sum',\n",
    "    \"et0_fao_evapotranspiration (mm)\" : 'et0_fao_evapotranspiration'},inplace=True)\n"
   ]
  },
  {
   "cell_type": "code",
   "execution_count": 4,
   "metadata": {},
   "outputs": [
    {
     "name": "stdout",
     "output_type": "stream",
     "text": [
      "            weather_code  temperature_2m_max  temperature_2m_min  \\\n",
      "time                                                               \n",
      "2022-01-01            63                26.8                22.0   \n",
      "2022-01-02            65                26.3                21.7   \n",
      "2022-01-03            53                27.4                22.3   \n",
      "2022-01-04            65                27.7                22.1   \n",
      "2022-01-05            51                29.3                21.2   \n",
      "...                  ...                 ...                 ...   \n",
      "2022-12-27            53                27.2                22.2   \n",
      "2022-12-28            51                28.3                21.4   \n",
      "2022-12-29            53                27.5                22.2   \n",
      "2022-12-30            51                28.1                19.2   \n",
      "2022-12-31            51                28.4                20.8   \n",
      "\n",
      "            temperature_2m_mean  apparent_temperature_max  \\\n",
      "time                                                        \n",
      "2022-01-01                 23.4                      32.1   \n",
      "2022-01-02                 23.5                      31.6   \n",
      "2022-01-03                 24.2                      32.1   \n",
      "2022-01-04                 24.3                      32.8   \n",
      "2022-01-05                 24.6                      36.2   \n",
      "...                         ...                       ...   \n",
      "2022-12-27                 23.8                      32.6   \n",
      "2022-12-28                 24.4                      33.3   \n",
      "2022-12-29                 24.4                      31.9   \n",
      "2022-12-30                 23.7                      31.7   \n",
      "2022-12-31                 24.4                      33.1   \n",
      "\n",
      "            apparent_temperature_min   apparent_temperature_mean  \\\n",
      "time                                                               \n",
      "2022-01-01                       26.3                       28.2   \n",
      "2022-01-02                       26.0                       28.5   \n",
      "2022-01-03                       26.8                       28.7   \n",
      "2022-01-04                       26.5                       29.1   \n",
      "2022-01-05                       24.7                       29.1   \n",
      "...                               ...                        ...   \n",
      "2022-12-27                       26.2                       28.4   \n",
      "2022-12-28                       25.2                       28.7   \n",
      "2022-12-29                       26.0                       28.5   \n",
      "2022-12-30                       21.7                       27.0   \n",
      "2022-12-31                       24.1                       28.3   \n",
      "\n",
      "                       sunrise              sunset  daylight_duration  \\\n",
      "time                                                                    \n",
      "2022-01-01 2022-01-01 07:22:09 2022-01-01 19:10:00           42465.30   \n",
      "2022-01-02 2022-01-02 07:22:34 2022-01-02 19:10:29           42469.74   \n",
      "2022-01-03 2022-01-03 07:22:58 2022-01-03 19:10:57           42474.57   \n",
      "2022-01-04 2022-01-04 07:23:21 2022-01-04 19:11:26           42479.84   \n",
      "2022-01-05 2022-01-05 07:23:44 2022-01-05 19:11:54           42485.57   \n",
      "...                        ...                 ...                ...   \n",
      "2022-12-27 2022-12-27 07:19:46 2022-12-27 19:07:19           42447.84   \n",
      "2022-12-28 2022-12-28 07:20:13 2022-12-28 19:07:48           42450.16   \n",
      "2022-12-29 2022-12-29 07:20:39 2022-12-29 19:08:17           42452.91   \n",
      "2022-12-30 2022-12-30 07:21:05 2022-12-30 19:08:46           42456.12   \n",
      "2022-12-31 2022-12-31 07:21:30 2022-12-31 19:09:15           42459.78   \n",
      "\n",
      "            sunshine_duration  rain_sum  precipitation_hours  \\\n",
      "time                                                           \n",
      "2022-01-01            9068.54      38.7                   24   \n",
      "2022-01-02           18080.76      28.6                   22   \n",
      "2022-01-03           23478.50       4.7                   17   \n",
      "2022-01-04           25601.84      14.4                   19   \n",
      "2022-01-05           38997.02       0.7                    6   \n",
      "...                       ...       ...                  ...   \n",
      "2022-12-27           20814.23       3.1                   14   \n",
      "2022-12-28           35667.65       1.9                   12   \n",
      "2022-12-29           37872.25       3.4                   12   \n",
      "2022-12-30           37872.23       0.1                    1   \n",
      "2022-12-31           37156.52       0.9                    5   \n",
      "\n",
      "            wind_speed_10m_max  wind_gusts_10m_max  \\\n",
      "time                                                 \n",
      "2022-01-01                13.0                33.1   \n",
      "2022-01-02                 8.2                28.1   \n",
      "2022-01-03                11.5                36.7   \n",
      "2022-01-04                 9.7                29.2   \n",
      "2022-01-05                10.4                29.5   \n",
      "...                        ...                 ...   \n",
      "2022-12-27                 9.8                25.6   \n",
      "2022-12-28                11.3                27.4   \n",
      "2022-12-29                11.7                26.3   \n",
      "2022-12-30                11.1                26.3   \n",
      "2022-12-31                 8.8                22.7   \n",
      "\n",
      "            wind_direction_10m_dominant  shortwave_radiation_sum  \\\n",
      "time                                                               \n",
      "2022-01-01                           21                    11.25   \n",
      "2022-01-02                          346                    11.70   \n",
      "2022-01-03                           46                    13.16   \n",
      "2022-01-04                           31                    14.00   \n",
      "2022-01-05                          324                    18.24   \n",
      "...                                 ...                      ...   \n",
      "2022-12-27                            0                    12.70   \n",
      "2022-12-28                          339                    19.66   \n",
      "2022-12-29                          351                    19.34   \n",
      "2022-12-30                          334                    17.75   \n",
      "2022-12-31                          344                    19.04   \n",
      "\n",
      "            et0_fao_evapotranspiration  \n",
      "time                                    \n",
      "2022-01-01                        2.11  \n",
      "2022-01-02                        2.23  \n",
      "2022-01-03                        2.64  \n",
      "2022-01-04                        2.74  \n",
      "2022-01-05                        3.63  \n",
      "...                                ...  \n",
      "2022-12-27                        2.49  \n",
      "2022-12-28                        3.83  \n",
      "2022-12-29                        3.70  \n",
      "2022-12-30                        3.57  \n",
      "2022-12-31                        3.80  \n",
      "\n",
      "[365 rows x 18 columns]\n"
     ]
    }
   ],
   "source": [
    "print(data)"
   ]
  },
  {
   "cell_type": "code",
   "execution_count": 5,
   "metadata": {},
   "outputs": [],
   "source": [
    "label_encoder = LabelEncoder()\n",
    "data['weather_code_encoded'] = label_encoder.fit_transform(data['weather_code'])\n",
    "data['wind_direction_10m_dominant_encoded'] = label_encoder.fit_transform(data['wind_direction_10m_dominant'])\n",
    "\n",
    "# Example of preprocessing datetime variables (sunrise, sunset, iso8601)\n",
    "data['sunrise'] = pd.to_datetime(data['sunrise'])\n",
    "data['sunset'] = pd.to_datetime(data['sunset'])\n",
    "data['hour_of_sunrise'] = data['sunrise'].dt.hour\n",
    "data['hour_of_sunset'] = data['sunset'].dt.hour\n",
    "\n",
    "\n",
    "# Drop the original categorical and datetime variables\n",
    "data.drop(['weather_code', 'wind_direction_10m_dominant', 'sunrise', 'sunset'], axis=1, inplace=True)"
   ]
  },
  {
   "cell_type": "code",
   "execution_count": 6,
   "metadata": {},
   "outputs": [
    {
     "name": "stdout",
     "output_type": "stream",
     "text": [
      "            temperature_2m_max  temperature_2m_min  temperature_2m_mean  \\\n",
      "time                                                                      \n",
      "2022-01-01           -1.806814           -0.302132                 23.4   \n",
      "2022-01-02           -2.077606           -0.657105                 23.5   \n",
      "2022-01-03           -1.481863            0.052841                 24.2   \n",
      "2022-01-04           -1.319388           -0.183808                 24.3   \n",
      "2022-01-05           -0.452853           -1.248727                 24.6   \n",
      "\n",
      "            apparent_temperature_max  apparent_temperature_min   \\\n",
      "time                                                              \n",
      "2022-01-01                 -1.764825                  -0.181376   \n",
      "2022-01-02                 -1.951268                  -0.401073   \n",
      "2022-01-03                 -1.764825                   0.184787   \n",
      "2022-01-04                 -1.503804                  -0.034911   \n",
      "2022-01-05                 -0.235991                  -1.353095   \n",
      "\n",
      "            apparent_temperature_mean  daylight_duration  sunshine_duration  \\\n",
      "time                                                                          \n",
      "2022-01-01                       28.2           0.009543           0.215429   \n",
      "2022-01-02                       28.5           0.011399           0.429521   \n",
      "2022-01-03                       28.7           0.013418           0.557748   \n",
      "2022-01-04                       29.1           0.015621           0.608189   \n",
      "2022-01-05                       29.1           0.018016           0.926401   \n",
      "\n",
      "            rain_sum  precipitation_hours  wind_speed_10m_max  \\\n",
      "time                                                            \n",
      "2022-01-01  0.311845             1.000000            1.797982   \n",
      "2022-01-02  0.230459             0.916667           -0.255113   \n",
      "2022-01-03  0.037873             0.708333            1.156390   \n",
      "2022-01-04  0.116035             0.791667            0.386479   \n",
      "2022-01-05  0.005641             0.250000            0.685889   \n",
      "\n",
      "            wind_gusts_10m_max  shortwave_radiation_sum  \\\n",
      "time                                                      \n",
      "2022-01-01            1.824073                -1.551268   \n",
      "2022-01-02            0.768509                -1.446381   \n",
      "2022-01-03            2.584079                -1.106082   \n",
      "2022-01-04            1.000733                -0.910294   \n",
      "2022-01-05            1.064066                 0.077970   \n",
      "\n",
      "            et0_fao_evapotranspiration  weather_code_encoded  \\\n",
      "time                                                           \n",
      "2022-01-01                    0.334728                     7   \n",
      "2022-01-02                    0.359833                     8   \n",
      "2022-01-03                    0.445607                     4   \n",
      "2022-01-04                    0.466527                     8   \n",
      "2022-01-05                    0.652720                     3   \n",
      "\n",
      "            wind_direction_10m_dominant_encoded  hour_of_sunrise  \\\n",
      "time                                                               \n",
      "2022-01-01                                   11                7   \n",
      "2022-01-02                                  220                7   \n",
      "2022-01-03                                   22                7   \n",
      "2022-01-04                                   16                7   \n",
      "2022-01-05                                  204                7   \n",
      "\n",
      "            hour_of_sunset  \n",
      "time                        \n",
      "2022-01-01              19  \n",
      "2022-01-02              19  \n",
      "2022-01-03              19  \n",
      "2022-01-04              19  \n",
      "2022-01-05              19  \n"
     ]
    }
   ],
   "source": [
    "# Select variables for standardization and normalization\n",
    "variables_to_standardize = ['temperature_2m_max', 'temperature_2m_min', 'apparent_temperature_max',\n",
    "                            'apparent_temperature_min ', 'wind_speed_10m_max', 'wind_gusts_10m_max',\n",
    "                            'shortwave_radiation_sum']\n",
    "\n",
    "variables_to_normalize = [ 'rain_sum', \"precipitation_hours\",\n",
    "                           'sunshine_duration', 'daylight_duration', 'et0_fao_evapotranspiration']\n",
    "\n",
    "# Standardization\n",
    "scaler_standardization = StandardScaler()\n",
    "data[variables_to_standardize] = scaler_standardization.fit_transform(data[variables_to_standardize])\n",
    "\n",
    "# Normalization\n",
    "scaler_normalization = MinMaxScaler()\n",
    "data[variables_to_normalize] = scaler_normalization.fit_transform(data[variables_to_normalize])\n",
    "\n",
    "# Display the first few rows of the transformed data\n",
    "print(data.head())"
   ]
  },
  {
   "cell_type": "code",
   "execution_count": 7,
   "metadata": {},
   "outputs": [],
   "source": [
    "# the Y value or target \n",
    "target_variable = ['temperature_2m_mean']\n",
    "# the X value or feature \n",
    "features = ['temperature_2m_max', 'temperature_2m_min', 'apparent_temperature_max',\n",
    "       'apparent_temperature_min ', 'apparent_temperature_mean',\n",
    "       'daylight_duration', 'sunshine_duration',\n",
    "       'rain_sum', 'precipitation_hours', 'wind_speed_10m_max',\n",
    "       'wind_gusts_10m_max', 'shortwave_radiation_sum',\n",
    "       'et0_fao_evapotranspiration', 'weather_code_encoded',\n",
    "       'wind_direction_10m_dominant_encoded', 'hour_of_sunrise',\n",
    "       'hour_of_sunset']\n",
    "\n",
    "\n",
    "sequence_length = 30  # Use 30 days of historical data for prediction\n",
    "\n",
    "\n",
    "# empty string for storing sequence lenght\n",
    "sequences = []\n",
    "target = []\n",
    "\n",
    "#the code for sequence length. It is good to grouping it as 30 to detect monthly weather pattern\n",
    "sequence_data_values = data[features].values\n",
    "target_values = data[target_variable].values\n",
    "\n",
    "for i in range(len(data) - sequence_length): # the total rows data is subrtracted with sequence length\n",
    "    sequence_data = sequence_data_values[i:i+sequence_length] # In loop and grouping 30 rows together\n",
    "    sequences.append(sequence_data)#adding the data into empty string of sequence\n",
    "    target.append(target_values[i+sequence_length])\n",
    "#converting to numpy for faster processing\n",
    "X = np.array(sequences)\n",
    "y = np.array(target)"
   ]
  },
  {
   "cell_type": "code",
   "execution_count": 8,
   "metadata": {},
   "outputs": [],
   "source": [
    "import os\n",
    "os.chdir(\"c:/Users/USER/AppData/Local/Programs/Microsoft VS Code\")"
   ]
  },
  {
   "cell_type": "code",
   "execution_count": 9,
   "metadata": {},
   "outputs": [
    {
     "name": "stdout",
     "output_type": "stream",
     "text": [
      "11/11 [==============================] - 1s 6ms/step\n"
     ]
    }
   ],
   "source": [
    "from keras.models import load_model\n",
    "\n",
    "# Load the model\n",
    "model = load_model('psychic.h5')\n",
    "predict = model.predict(X)"
   ]
  },
  {
   "cell_type": "code",
   "execution_count": 11,
   "metadata": {},
   "outputs": [
    {
     "name": "stdout",
     "output_type": "stream",
     "text": [
      "Mean Absolute Error (MAE): 0.4674312694037138\n",
      "R-squared (R2): 0.623034407030318\n",
      "Mean Squared Error (MSE): 0.3405723319580533\n"
     ]
    }
   ],
   "source": [
    "from sklearn.metrics import mean_absolute_error, r2_score, mean_squared_error\n",
    "mae = mean_absolute_error(y, predict)\n",
    "r2 = r2_score(y, predict)\n",
    "mse = mean_squared_error(y, predict)\n",
    "\n",
    "print(f\"Mean Absolute Error (MAE): {mae}\")\n",
    "print(f\"R-squared (R2): {r2}\")\n",
    "print(f\"Mean Squared Error (MSE): {mse}\")"
   ]
  },
  {
   "cell_type": "code",
   "execution_count": 12,
   "metadata": {},
   "outputs": [
    {
     "name": "stdout",
     "output_type": "stream",
     "text": [
      "Accuracy: 98.16%\n"
     ]
    }
   ],
   "source": [
    "\n",
    "# Calculate the absolute errors\n",
    "errors = abs(predict - y)\n",
    "\n",
    "# Calculate mean absolute percentage error (MAPE)\n",
    "mape = 100 * (errors / y)\n",
    "\n",
    "# Calculate accuracy\n",
    "accuracy = 100 - np.mean(mape)\n",
    "\n",
    "# Print the accuracy as a percentage\n",
    "print('Accuracy: {:.2f}%'.format(accuracy))"
   ]
  },
  {
   "cell_type": "code",
   "execution_count": 13,
   "metadata": {},
   "outputs": [
    {
     "data": {
      "image/png": "[encoded data removed]",
      "text/plain": [
       "<Figure size 640x480 with 1 Axes>"
      ]
     },
     "metadata": {},
     "output_type": "display_data"
    }
   ],
   "source": [
    "import matplotlib.pyplot as plt\n",
    "# plot comparasion between actual and predicted for validation of 20% y test\n",
    "\n",
    "# Plot the actual values\n",
    "plt.plot(y, label='Actual', color='blue')\n",
    "\n",
    "# Plot the predicted values\n",
    "plt.plot(predict, label='Predicted', color='red')\n",
    "\n",
    "# Customize the plot\n",
    "plt.xlabel('Time')\n",
    "plt.ylabel('Temperature')\n",
    "plt.title('Actual vs Predicted Temperature')\n",
    "plt.legend()\n",
    "plt.grid(True)\n",
    "\n",
    "# Show the plot\n",
    "plt.show()\n"
   ]
  },
  {
   "cell_type": "code",
   "execution_count": 14,
   "metadata": {},
   "outputs": [
    {
     "data": {
      "application/vnd.plotly.v1+json": {
       "config": {
        "plotlyServerURL": "https://plot.ly"
       },
       "data": [
        {
         "mode": "lines",
         "name": "pred",
         "type": "scatter",
         "x": [
          "2022-01-01T00:00:00",
          "2022-01-02T00:00:00",
          "2022-01-03T00:00:00",
          "2022-01-04T00:00:00",
          "2022-01-05T00:00:00",
          "2022-01-06T00:00:00",
          "2022-01-07T00:00:00",
          "2022-01-08T00:00:00",
          "2022-01-09T00:00:00",
          "2022-01-10T00:00:00",
          "2022-01-11T00:00:00",
          "2022-01-12T00:00:00",
          "2022-01-13T00:00:00",
          "2022-01-14T00:00:00",
          "2022-01-15T00:00:00",
          "2022-01-16T00:00:00",
          "2022-01-17T00:00:00",
          "2022-01-18T00:00:00",
          "2022-01-19T00:00:00",
          "2022-01-20T00:00:00",
          "2022-01-21T00:00:00",
          "2022-01-22T00:00:00",
          "2022-01-23T00:00:00",
          "2022-01-24T00:00:00",
          "2022-01-25T00:00:00",
          "2022-01-26T00:00:00",
          "2022-01-27T00:00:00",
          "2022-01-28T00:00:00",
          "2022-01-29T00:00:00",
          "2022-01-30T00:00:00",
          "2022-01-31T00:00:00",
          "2022-02-01T00:00:00",
          "2022-02-02T00:00:00",
          "2022-02-03T00:00:00",
          "2022-02-04T00:00:00",
          "2022-02-05T00:00:00",
          "2022-02-06T00:00:00",
          "2022-02-07T00:00:00",
          "2022-02-08T00:00:00",
          "2022-02-09T00:00:00",
          "2022-02-10T00:00:00",
          "2022-02-11T00:00:00",
          "2022-02-12T00:00:00",
          "2022-02-13T00:00:00",
          "2022-02-14T00:00:00",
          "2022-02-15T00:00:00",
          "2022-02-16T00:00:00",
          "2022-02-17T00:00:00",
          "2022-02-18T00:00:00",
          "2022-02-19T00:00:00",
          "2022-02-20T00:00:00",
          "2022-02-21T00:00:00",
          "2022-02-22T00:00:00",
          "2022-02-23T00:00:00",
          "2022-02-24T00:00:00",
          "2022-02-25T00:00:00",
          "2022-02-26T00:00:00",
          "2022-02-27T00:00:00",
          "2022-02-28T00:00:00",
          "2022-03-01T00:00:00",
          "2022-03-02T00:00:00",
          "2022-03-03T00:00:00",
          "2022-03-04T00:00:00",
          "2022-03-05T00:00:00",
          "2022-03-06T00:00:00",
          "2022-03-07T00:00:00",
          "2022-03-08T00:00:00",
          "2022-03-09T00:00:00",
          "2022-03-10T00:00:00",
          "2022-03-11T00:00:00",
          "2022-03-12T00:00:00",
          "2022-03-13T00:00:00",
          "2022-03-14T00:00:00",
          "2022-03-15T00:00:00",
          "2022-03-16T00:00:00",
          "2022-03-17T00:00:00",
          "2022-03-18T00:00:00",
          "2022-03-19T00:00:00",
          "2022-03-20T00:00:00",
          "2022-03-21T00:00:00",
          "2022-03-22T00:00:00",
          "2022-03-23T00:00:00",
          "2022-03-24T00:00:00",
          "2022-03-25T00:00:00",
          "2022-03-26T00:00:00",
          "2022-03-27T00:00:00",
          "2022-03-28T00:00:00",
          "2022-03-29T00:00:00",
          "2022-03-30T00:00:00",
          "2022-03-31T00:00:00",
          "2022-04-01T00:00:00",
          "2022-04-02T00:00:00",
          "2022-04-03T00:00:00",
          "2022-04-04T00:00:00",
          "2022-04-05T00:00:00",
          "2022-04-06T00:00:00",
          "2022-04-07T00:00:00",
          "2022-04-08T00:00:00",
          "2022-04-09T00:00:00",
          "2022-04-10T00:00:00",
          "2022-04-11T00:00:00",
          "2022-04-12T00:00:00",
          "2022-04-13T00:00:00",
          "2022-04-14T00:00:00",
          "2022-04-15T00:00:00",
          "2022-04-16T00:00:00",
          "2022-04-17T00:00:00",
          "2022-04-18T00:00:00",
          "2022-04-19T00:00:00",
          "2022-04-20T00:00:00",
          "2022-04-21T00:00:00",
          "2022-04-22T00:00:00",
          "2022-04-23T00:00:00",
          "2022-04-24T00:00:00",
          "2022-04-25T00:00:00",
          "2022-04-26T00:00:00",
          "2022-04-27T00:00:00",
          "2022-04-28T00:00:00",
          "2022-04-29T00:00:00",
          "2022-04-30T00:00:00",
          "2022-05-01T00:00:00",
          "2022-05-02T00:00:00",
          "2022-05-03T00:00:00",
          "2022-05-04T00:00:00",
          "2022-05-05T00:00:00",
          "2022-05-06T00:00:00",
          "2022-05-07T00:00:00",
          "2022-05-08T00:00:00",
          "2022-05-09T00:00:00",
          "2022-05-10T00:00:00",
          "2022-05-11T00:00:00",
          "2022-05-12T00:00:00",
          "2022-05-13T00:00:00",
          "2022-05-14T00:00:00",
          "2022-05-15T00:00:00",
          "2022-05-16T00:00:00",
          "2022-05-17T00:00:00",
          "2022-05-18T00:00:00",
          "2022-05-19T00:00:00",
          "2022-05-20T00:00:00",
          "2022-05-21T00:00:00",
          "2022-05-22T00:00:00",
          "2022-05-23T00:00:00",
          "2022-05-24T00:00:00",
          "2022-05-25T00:00:00",
          "2022-05-26T00:00:00",
          "2022-05-27T00:00:00",
          "2022-05-28T00:00:00",
          "2022-05-29T00:00:00",
          "2022-05-30T00:00:00",
          "2022-05-31T00:00:00",
          "2022-06-01T00:00:00",
          "2022-06-02T00:00:00",
          "2022-06-03T00:00:00",
          "2022-06-04T00:00:00",
          "2022-06-05T00:00:00",
          "2022-06-06T00:00:00",
          "2022-06-07T00:00:00",
          "2022-06-08T00:00:00",
          "2022-06-09T00:00:00",
          "2022-06-10T00:00:00",
          "2022-06-11T00:00:00",
          "2022-06-12T00:00:00",
          "2022-06-13T00:00:00",
          "2022-06-14T00:00:00",
          "2022-06-15T00:00:00",
          "2022-06-16T00:00:00",
          "2022-06-17T00:00:00",
          "2022-06-18T00:00:00",
          "2022-06-19T00:00:00",
          "2022-06-20T00:00:00",
          "2022-06-21T00:00:00",
          "2022-06-22T00:00:00",
          "2022-06-23T00:00:00",
          "2022-06-24T00:00:00",
          "2022-06-25T00:00:00",
          "2022-06-26T00:00:00",
          "2022-06-27T00:00:00",
          "2022-06-28T00:00:00",
          "2022-06-29T00:00:00",
          "2022-06-30T00:00:00",
          "2022-07-01T00:00:00",
          "2022-07-02T00:00:00",
          "2022-07-03T00:00:00",
          "2022-07-04T00:00:00",
          "2022-07-05T00:00:00",
          "2022-07-06T00:00:00",
          "2022-07-07T00:00:00",
          "2022-07-08T00:00:00",
          "2022-07-09T00:00:00",
          "2022-07-10T00:00:00",
          "2022-07-11T00:00:00",
          "2022-07-12T00:00:00",
          "2022-07-13T00:00:00",
          "2022-07-14T00:00:00",
          "2022-07-15T00:00:00",
          "2022-07-16T00:00:00",
          "2022-07-17T00:00:00",
          "2022-07-18T00:00:00",
          "2022-07-19T00:00:00",
          "2022-07-20T00:00:00",
          "2022-07-21T00:00:00",
          "2022-07-22T00:00:00",
          "2022-07-23T00:00:00",
          "2022-07-24T00:00:00",
          "2022-07-25T00:00:00",
          "2022-07-26T00:00:00",
          "2022-07-27T00:00:00",
          "2022-07-28T00:00:00",
          "2022-07-29T00:00:00",
          "2022-07-30T00:00:00",
          "2022-07-31T00:00:00",
          "2022-08-01T00:00:00",
          "2022-08-02T00:00:00",
          "2022-08-03T00:00:00",
          "2022-08-04T00:00:00",
          "2022-08-05T00:00:00",
          "2022-08-06T00:00:00",
          "2022-08-07T00:00:00",
          "2022-08-08T00:00:00",
          "2022-08-09T00:00:00",
          "2022-08-10T00:00:00",
          "2022-08-11T00:00:00",
          "2022-08-12T00:00:00",
          "2022-08-13T00:00:00",
          "2022-08-14T00:00:00",
          "2022-08-15T00:00:00",
          "2022-08-16T00:00:00",
          "2022-08-17T00:00:00",
          "2022-08-18T00:00:00",
          "2022-08-19T00:00:00",
          "2022-08-20T00:00:00",
          "2022-08-21T00:00:00",
          "2022-08-22T00:00:00",
          "2022-08-23T00:00:00",
          "2022-08-24T00:00:00",
          "2022-08-25T00:00:00",
          "2022-08-26T00:00:00",
          "2022-08-27T00:00:00",
          "2022-08-28T00:00:00",
          "2022-08-29T00:00:00",
          "2022-08-30T00:00:00",
          "2022-08-31T00:00:00",
          "2022-09-01T00:00:00",
          "2022-09-02T00:00:00",
          "2022-09-03T00:00:00",
          "2022-09-04T00:00:00",
          "2022-09-05T00:00:00",
          "2022-09-06T00:00:00",
          "2022-09-07T00:00:00",
          "2022-09-08T00:00:00",
          "2022-09-09T00:00:00",
          "2022-09-10T00:00:00",
          "2022-09-11T00:00:00",
          "2022-09-12T00:00:00",
          "2022-09-13T00:00:00",
          "2022-09-14T00:00:00",
          "2022-09-15T00:00:00",
          "2022-09-16T00:00:00",
          "2022-09-17T00:00:00",
          "2022-09-18T00:00:00",
          "2022-09-19T00:00:00",
          "2022-09-20T00:00:00",
          "2022-09-21T00:00:00",
          "2022-09-22T00:00:00",
          "2022-09-23T00:00:00",
          "2022-09-24T00:00:00",
          "2022-09-25T00:00:00",
          "2022-09-26T00:00:00",
          "2022-09-27T00:00:00",
          "2022-09-28T00:00:00",
          "2022-09-29T00:00:00",
          "2022-09-30T00:00:00",
          "2022-10-01T00:00:00",
          "2022-10-02T00:00:00",
          "2022-10-03T00:00:00",
          "2022-10-04T00:00:00",
          "2022-10-05T00:00:00",
          "2022-10-06T00:00:00",
          "2022-10-07T00:00:00",
          "2022-10-08T00:00:00",
          "2022-10-09T00:00:00",
          "2022-10-10T00:00:00",
          "2022-10-11T00:00:00",
          "2022-10-12T00:00:00",
          "2022-10-13T00:00:00",
          "2022-10-14T00:00:00",
          "2022-10-15T00:00:00",
          "2022-10-16T00:00:00",
          "2022-10-17T00:00:00",
          "2022-10-18T00:00:00",
          "2022-10-19T00:00:00",
          "2022-10-20T00:00:00",
          "2022-10-21T00:00:00",
          "2022-10-22T00:00:00",
          "2022-10-23T00:00:00",
          "2022-10-24T00:00:00",
          "2022-10-25T00:00:00",
          "2022-10-26T00:00:00",
          "2022-10-27T00:00:00",
          "2022-10-28T00:00:00",
          "2022-10-29T00:00:00",
          "2022-10-30T00:00:00",
          "2022-10-31T00:00:00",
          "2022-11-01T00:00:00"
         ],
         "y": [
          26.113086700439453,
          25.824623107910156,
          25.48338508605957,
          25.12102699279785,
          24.461294174194336,
          24.22361946105957,
          24.755966186523438,
          24.38727378845215,
          23.965301513671875,
          24.658035278320312,
          23.96980857849121,
          24.37928009033203,
          24.119962692260742,
          24.250164031982422,
          24.703378677368164,
          25.180513381958008,
          24.67459487915039,
          25.341733932495117,
          25.475656509399414,
          25.502208709716797,
          25.610458374023438,
          24.430503845214844,
          23.55399513244629,
          22.825387954711914,
          22.600366592407227,
          22.78948402404785,
          23.34951400756836,
          24.094654083251953,
          24.35559844970703,
          24.280059814453125,
          23.78704071044922,
          23.877582550048828,
          23.946256637573242,
          24.06892204284668,
          23.878353118896484,
          25.265151977539062,
          24.86001968383789,
          25.21198844909668,
          24.460540771484375,
          25.201093673706055,
          25.893009185791016,
          25.11154556274414,
          25.94687271118164,
          25.43873405456543,
          25.18122100830078,
          25.298982620239258,
          25.109968185424805,
          25.397939682006836,
          25.920242309570312,
          25.399982452392578,
          25.69458770751953,
          26.26887321472168,
          25.973939895629883,
          25.905485153198242,
          25.947120666503906,
          25.917448043823242,
          26.088069915771484,
          25.035686492919922,
          25.382627487182617,
          25.063222885131836,
          24.951099395751953,
          24.985084533691406,
          25.262256622314453,
          25.55387306213379,
          25.338552474975586,
          25.658559799194336,
          25.725753784179688,
          25.870895385742188,
          25.8453426361084,
          26.106563568115234,
          26.121898651123047,
          25.6007137298584,
          25.65071678161621,
          26.00433349609375,
          25.839527130126953,
          26.03349494934082,
          26.083057403564453,
          25.96647834777832,
          26.070398330688477,
          26.4658203125,
          27.20732307434082,
          26.432126998901367,
          26.627561569213867,
          26.075801849365234,
          25.883995056152344,
          25.355918884277344,
          26.17241859436035,
          26.230751037597656,
          26.00226402282715,
          26.478330612182617,
          26.028554916381836,
          26.42110824584961,
          26.14631462097168,
          26.27353286743164,
          26.107778549194336,
          26.369657516479492,
          25.94254493713379,
          26.07913589477539,
          26.266399383544922,
          26.524572372436523,
          27.120582580566406,
          26.745296478271484,
          26.860387802124023,
          26.902965545654297,
          27.043455123901367,
          27.293699264526367,
          27.186452865600586,
          27.494468688964844,
          26.558732986450195,
          27.003196716308594,
          26.910812377929688,
          26.34994888305664,
          26.511093139648438,
          25.94291877746582,
          26.433855056762695,
          26.051372528076172,
          26.12464141845703,
          25.871166229248047,
          26.288833618164062,
          25.945899963378906,
          26.052337646484375,
          25.811222076416016,
          25.967565536499023,
          25.598188400268555,
          26.25789451599121,
          25.86467170715332,
          25.542753219604492,
          25.92735481262207,
          25.753440856933594,
          25.611942291259766,
          25.54642677307129,
          25.187875747680664,
          24.79875373840332,
          25.913021087646484,
          25.985061645507812,
          25.963680267333984,
          26.22828483581543,
          25.668874740600586,
          26.241743087768555,
          26.78535270690918,
          26.61610984802246,
          26.517436981201172,
          25.867809295654297,
          26.249710083007812,
          26.29352569580078,
          26.265172958374023,
          25.814369201660156,
          25.84562110900879,
          25.773319244384766,
          26.572629928588867,
          26.621585845947266,
          26.816484451293945,
          26.82802963256836,
          26.362890243530273,
          25.84287452697754,
          27.08222770690918,
          26.40410041809082,
          26.000682830810547,
          26.09883689880371,
          25.842031478881836,
          25.933063507080078,
          26.181615829467773,
          26.187170028686523,
          25.979827880859375,
          25.928266525268555,
          25.980663299560547,
          25.95821762084961,
          25.746562957763672,
          25.376054763793945,
          25.47382164001465,
          26.090702056884766,
          26.156145095825195,
          26.049110412597656,
          26.533775329589844,
          26.43500518798828,
          26.630414962768555,
          26.424264907836914,
          25.99419593811035,
          25.892030715942383,
          26.142288208007812,
          26.16866111755371,
          26.189943313598633,
          26.006488800048828,
          26.02545928955078,
          25.84932518005371,
          26.624622344970703,
          25.86156463623047,
          26.054492950439453,
          25.74095916748047,
          25.540618896484375,
          25.788928985595703,
          25.756940841674805,
          25.522254943847656,
          25.958534240722656,
          25.609634399414062,
          25.81291961669922,
          25.582435607910156,
          25.363065719604492,
          25.883834838867188,
          25.840274810791016,
          25.948688507080078,
          25.68046760559082,
          25.97260856628418,
          25.559457778930664,
          25.32559585571289,
          25.270963668823242,
          25.811506271362305,
          25.25279998779297,
          25.321151733398438,
          26.13775062561035,
          25.54822540283203,
          25.672700881958008,
          25.69489288330078,
          26.10960578918457,
          25.628076553344727,
          25.56450653076172,
          25.625011444091797,
          25.66887092590332,
          25.382814407348633,
          26.134014129638672,
          25.851125717163086,
          25.328449249267578,
          25.797348022460938,
          25.387149810791016,
          25.055728912353516,
          25.38717269897461,
          25.560029983520508,
          24.59103012084961,
          25.134063720703125,
          24.277969360351562,
          24.919275283813477,
          25.107139587402344,
          25.393522262573242,
          25.41388702392578,
          25.02613639831543,
          25.003093719482422,
          24.934144973754883,
          25.57679557800293,
          25.330591201782227,
          25.32988739013672,
          25.318622589111328,
          24.95043182373047,
          24.660505294799805,
          25.02518081665039,
          24.740049362182617,
          24.868675231933594,
          24.823009490966797,
          24.994722366333008,
          25.05513572692871,
          24.626079559326172,
          25.17397689819336,
          25.144874572753906,
          24.676311492919922,
          24.1976318359375,
          24.7491455078125,
          24.84467887878418,
          24.557880401611328,
          24.663257598876953,
          23.779586791992188,
          24.187894821166992,
          24.243816375732422,
          24.53049087524414,
          24.571327209472656,
          24.690654754638672,
          24.618183135986328,
          24.66646957397461,
          24.498973846435547,
          25.198200225830078,
          25.558128356933594,
          25.69594955444336,
          25.74465560913086,
          25.503971099853516,
          25.223623275756836,
          24.927692413330078,
          24.800073623657227,
          24.825153350830078,
          25.091196060180664,
          24.6341495513916,
          24.132783889770508,
          23.817420959472656,
          23.839902877807617,
          23.842262268066406,
          24.997467041015625,
          24.014827728271484,
          23.105146408081055,
          23.426366806030273,
          23.417856216430664,
          23.378292083740234,
          23.432588577270508,
          24.0352783203125,
          23.798877716064453,
          23.685136795043945,
          23.05964469909668,
          22.86932945251465,
          23.044713973999023,
          23.253442764282227,
          23.660762786865234,
          23.89472770690918,
          23.164541244506836,
          23.326400756835938,
          23.451616287231445,
          23.638765335083008,
          23.984664916992188,
          23.864151000976562,
          23.24181365966797
         ]
        },
        {
         "mode": "lines",
         "name": "Actual Temperature",
         "type": "scatter",
         "x": [
          "2022-01-01T00:00:00",
          "2022-01-02T00:00:00",
          "2022-01-03T00:00:00",
          "2022-01-04T00:00:00",
          "2022-01-05T00:00:00",
          "2022-01-06T00:00:00",
          "2022-01-07T00:00:00",
          "2022-01-08T00:00:00",
          "2022-01-09T00:00:00",
          "2022-01-10T00:00:00",
          "2022-01-11T00:00:00",
          "2022-01-12T00:00:00",
          "2022-01-13T00:00:00",
          "2022-01-14T00:00:00",
          "2022-01-15T00:00:00",
          "2022-01-16T00:00:00",
          "2022-01-17T00:00:00",
          "2022-01-18T00:00:00",
          "2022-01-19T00:00:00",
          "2022-01-20T00:00:00",
          "2022-01-21T00:00:00",
          "2022-01-22T00:00:00",
          "2022-01-23T00:00:00",
          "2022-01-24T00:00:00",
          "2022-01-25T00:00:00",
          "2022-01-26T00:00:00",
          "2022-01-27T00:00:00",
          "2022-01-28T00:00:00",
          "2022-01-29T00:00:00",
          "2022-01-30T00:00:00",
          "2022-01-31T00:00:00",
          "2022-02-01T00:00:00",
          "2022-02-02T00:00:00",
          "2022-02-03T00:00:00",
          "2022-02-04T00:00:00",
          "2022-02-05T00:00:00",
          "2022-02-06T00:00:00",
          "2022-02-07T00:00:00",
          "2022-02-08T00:00:00",
          "2022-02-09T00:00:00",
          "2022-02-10T00:00:00",
          "2022-02-11T00:00:00",
          "2022-02-12T00:00:00",
          "2022-02-13T00:00:00",
          "2022-02-14T00:00:00",
          "2022-02-15T00:00:00",
          "2022-02-16T00:00:00",
          "2022-02-17T00:00:00",
          "2022-02-18T00:00:00",
          "2022-02-19T00:00:00",
          "2022-02-20T00:00:00",
          "2022-02-21T00:00:00",
          "2022-02-22T00:00:00",
          "2022-02-23T00:00:00",
          "2022-02-24T00:00:00",
          "2022-02-25T00:00:00",
          "2022-02-26T00:00:00",
          "2022-02-27T00:00:00",
          "2022-02-28T00:00:00",
          "2022-03-01T00:00:00",
          "2022-03-02T00:00:00",
          "2022-03-03T00:00:00",
          "2022-03-04T00:00:00",
          "2022-03-05T00:00:00",
          "2022-03-06T00:00:00",
          "2022-03-07T00:00:00",
          "2022-03-08T00:00:00",
          "2022-03-09T00:00:00",
          "2022-03-10T00:00:00",
          "2022-03-11T00:00:00",
          "2022-03-12T00:00:00",
          "2022-03-13T00:00:00",
          "2022-03-14T00:00:00",
          "2022-03-15T00:00:00",
          "2022-03-16T00:00:00",
          "2022-03-17T00:00:00",
          "2022-03-18T00:00:00",
          "2022-03-19T00:00:00",
          "2022-03-20T00:00:00",
          "2022-03-21T00:00:00",
          "2022-03-22T00:00:00",
          "2022-03-23T00:00:00",
          "2022-03-24T00:00:00",
          "2022-03-25T00:00:00",
          "2022-03-26T00:00:00",
          "2022-03-27T00:00:00",
          "2022-03-28T00:00:00",
          "2022-03-29T00:00:00",
          "2022-03-30T00:00:00",
          "2022-03-31T00:00:00",
          "2022-04-01T00:00:00",
          "2022-04-02T00:00:00",
          "2022-04-03T00:00:00",
          "2022-04-04T00:00:00",
          "2022-04-05T00:00:00",
          "2022-04-06T00:00:00",
          "2022-04-07T00:00:00",
          "2022-04-08T00:00:00",
          "2022-04-09T00:00:00",
          "2022-04-10T00:00:00",
          "2022-04-11T00:00:00",
          "2022-04-12T00:00:00",
          "2022-04-13T00:00:00",
          "2022-04-14T00:00:00",
          "2022-04-15T00:00:00",
          "2022-04-16T00:00:00",
          "2022-04-17T00:00:00",
          "2022-04-18T00:00:00",
          "2022-04-19T00:00:00",
          "2022-04-20T00:00:00",
          "2022-04-21T00:00:00",
          "2022-04-22T00:00:00",
          "2022-04-23T00:00:00",
          "2022-04-24T00:00:00",
          "2022-04-25T00:00:00",
          "2022-04-26T00:00:00",
          "2022-04-27T00:00:00",
          "2022-04-28T00:00:00",
          "2022-04-29T00:00:00",
          "2022-04-30T00:00:00",
          "2022-05-01T00:00:00",
          "2022-05-02T00:00:00",
          "2022-05-03T00:00:00",
          "2022-05-04T00:00:00",
          "2022-05-05T00:00:00",
          "2022-05-06T00:00:00",
          "2022-05-07T00:00:00",
          "2022-05-08T00:00:00",
          "2022-05-09T00:00:00",
          "2022-05-10T00:00:00",
          "2022-05-11T00:00:00",
          "2022-05-12T00:00:00",
          "2022-05-13T00:00:00",
          "2022-05-14T00:00:00",
          "2022-05-15T00:00:00",
          "2022-05-16T00:00:00",
          "2022-05-17T00:00:00",
          "2022-05-18T00:00:00",
          "2022-05-19T00:00:00",
          "2022-05-20T00:00:00",
          "2022-05-21T00:00:00",
          "2022-05-22T00:00:00",
          "2022-05-23T00:00:00",
          "2022-05-24T00:00:00",
          "2022-05-25T00:00:00",
          "2022-05-26T00:00:00",
          "2022-05-27T00:00:00",
          "2022-05-28T00:00:00",
          "2022-05-29T00:00:00",
          "2022-05-30T00:00:00",
          "2022-05-31T00:00:00",
          "2022-06-01T00:00:00",
          "2022-06-02T00:00:00",
          "2022-06-03T00:00:00",
          "2022-06-04T00:00:00",
          "2022-06-05T00:00:00",
          "2022-06-06T00:00:00",
          "2022-06-07T00:00:00",
          "2022-06-08T00:00:00",
          "2022-06-09T00:00:00",
          "2022-06-10T00:00:00",
          "2022-06-11T00:00:00",
          "2022-06-12T00:00:00",
          "2022-06-13T00:00:00",
          "2022-06-14T00:00:00",
          "2022-06-15T00:00:00",
          "2022-06-16T00:00:00",
          "2022-06-17T00:00:00",
          "2022-06-18T00:00:00",
          "2022-06-19T00:00:00",
          "2022-06-20T00:00:00",
          "2022-06-21T00:00:00",
          "2022-06-22T00:00:00",
          "2022-06-23T00:00:00",
          "2022-06-24T00:00:00",
          "2022-06-25T00:00:00",
          "2022-06-26T00:00:00",
          "2022-06-27T00:00:00",
          "2022-06-28T00:00:00",
          "2022-06-29T00:00:00",
          "2022-06-30T00:00:00",
          "2022-07-01T00:00:00",
          "2022-07-02T00:00:00",
          "2022-07-03T00:00:00",
          "2022-07-04T00:00:00",
          "2022-07-05T00:00:00",
          "2022-07-06T00:00:00",
          "2022-07-07T00:00:00",
          "2022-07-08T00:00:00",
          "2022-07-09T00:00:00",
          "2022-07-10T00:00:00",
          "2022-07-11T00:00:00",
          "2022-07-12T00:00:00",
          "2022-07-13T00:00:00",
          "2022-07-14T00:00:00",
          "2022-07-15T00:00:00",
          "2022-07-16T00:00:00",
          "2022-07-17T00:00:00",
          "2022-07-18T00:00:00",
          "2022-07-19T00:00:00",
          "2022-07-20T00:00:00",
          "2022-07-21T00:00:00",
          "2022-07-22T00:00:00",
          "2022-07-23T00:00:00",
          "2022-07-24T00:00:00",
          "2022-07-25T00:00:00",
          "2022-07-26T00:00:00",
          "2022-07-27T00:00:00",
          "2022-07-28T00:00:00",
          "2022-07-29T00:00:00",
          "2022-07-30T00:00:00",
          "2022-07-31T00:00:00",
          "2022-08-01T00:00:00",
          "2022-08-02T00:00:00",
          "2022-08-03T00:00:00",
          "2022-08-04T00:00:00",
          "2022-08-05T00:00:00",
          "2022-08-06T00:00:00",
          "2022-08-07T00:00:00",
          "2022-08-08T00:00:00",
          "2022-08-09T00:00:00",
          "2022-08-10T00:00:00",
          "2022-08-11T00:00:00",
          "2022-08-12T00:00:00",
          "2022-08-13T00:00:00",
          "2022-08-14T00:00:00",
          "2022-08-15T00:00:00",
          "2022-08-16T00:00:00",
          "2022-08-17T00:00:00",
          "2022-08-18T00:00:00",
          "2022-08-19T00:00:00",
          "2022-08-20T00:00:00",
          "2022-08-21T00:00:00",
          "2022-08-22T00:00:00",
          "2022-08-23T00:00:00",
          "2022-08-24T00:00:00",
          "2022-08-25T00:00:00",
          "2022-08-26T00:00:00",
          "2022-08-27T00:00:00",
          "2022-08-28T00:00:00",
          "2022-08-29T00:00:00",
          "2022-08-30T00:00:00",
          "2022-08-31T00:00:00",
          "2022-09-01T00:00:00",
          "2022-09-02T00:00:00",
          "2022-09-03T00:00:00",
          "2022-09-04T00:00:00",
          "2022-09-05T00:00:00",
          "2022-09-06T00:00:00",
          "2022-09-07T00:00:00",
          "2022-09-08T00:00:00",
          "2022-09-09T00:00:00",
          "2022-09-10T00:00:00",
          "2022-09-11T00:00:00",
          "2022-09-12T00:00:00",
          "2022-09-13T00:00:00",
          "2022-09-14T00:00:00",
          "2022-09-15T00:00:00",
          "2022-09-16T00:00:00",
          "2022-09-17T00:00:00",
          "2022-09-18T00:00:00",
          "2022-09-19T00:00:00",
          "2022-09-20T00:00:00",
          "2022-09-21T00:00:00",
          "2022-09-22T00:00:00",
          "2022-09-23T00:00:00",
          "2022-09-24T00:00:00",
          "2022-09-25T00:00:00",
          "2022-09-26T00:00:00",
          "2022-09-27T00:00:00",
          "2022-09-28T00:00:00",
          "2022-09-29T00:00:00",
          "2022-09-30T00:00:00",
          "2022-10-01T00:00:00",
          "2022-10-02T00:00:00",
          "2022-10-03T00:00:00",
          "2022-10-04T00:00:00",
          "2022-10-05T00:00:00",
          "2022-10-06T00:00:00",
          "2022-10-07T00:00:00",
          "2022-10-08T00:00:00",
          "2022-10-09T00:00:00",
          "2022-10-10T00:00:00",
          "2022-10-11T00:00:00",
          "2022-10-12T00:00:00",
          "2022-10-13T00:00:00",
          "2022-10-14T00:00:00",
          "2022-10-15T00:00:00",
          "2022-10-16T00:00:00",
          "2022-10-17T00:00:00",
          "2022-10-18T00:00:00",
          "2022-10-19T00:00:00",
          "2022-10-20T00:00:00",
          "2022-10-21T00:00:00",
          "2022-10-22T00:00:00",
          "2022-10-23T00:00:00",
          "2022-10-24T00:00:00",
          "2022-10-25T00:00:00",
          "2022-10-26T00:00:00",
          "2022-10-27T00:00:00",
          "2022-10-28T00:00:00",
          "2022-10-29T00:00:00",
          "2022-10-30T00:00:00",
          "2022-10-31T00:00:00",
          "2022-11-01T00:00:00"
         ],
         "y": [
          26.15,
          25.2,
          25.6,
          24.6,
          24.5,
          25.1,
          24.3,
          23.9,
          24.8,
          24,
          24.1,
          24.1,
          24.2,
          24.7,
          25.2,
          25.2,
          26,
          26.2,
          25.5,
          25.9,
          24.9,
          23.1,
          22.4,
          22.6,
          22.9,
          23.8,
          24.2,
          24.7,
          24.9,
          24.3,
          24.05,
          24.8,
          24.5,
          24.7,
          25.9,
          25.7,
          26,
          24.7,
          26.2,
          26.7,
          25.950000000000003,
          26.2,
          25.7,
          25.3,
          25.4,
          25.7,
          25,
          26,
          25.4,
          25.1,
          26,
          26.3,
          26.3,
          26,
          25.9,
          25.6,
          24.4,
          24.8,
          24.6,
          24.5,
          24.9,
          25.1,
          25.9,
          25.6,
          25.6,
          25.3,
          25.9,
          25.9,
          26.2,
          26.4,
          26.25,
          25.2,
          26,
          26.3,
          26.3,
          26,
          25.6,
          25.5,
          26.6,
          27.5,
          26.4,
          26.15,
          25.9,
          25.8,
          25.5,
          26.4,
          26.3,
          26.1,
          26.8,
          26,
          26.2,
          26,
          26.1,
          26.3,
          26.7,
          25.5,
          25.9,
          26.5,
          27.1,
          27.6,
          27.2,
          26.65,
          27.8,
          27,
          27.3,
          27.9,
          28,
          26.3,
          26.9,
          27.5,
          26.4,
          26.2,
          25.7,
          26.3,
          25.7,
          25.5,
          25.3,
          26.3,
          25.4,
          25.4,
          25.1,
          25.65,
          25.1,
          26,
          25.5,
          24.9,
          25.9,
          25.7,
          25.3,
          25.7,
          25.2,
          25,
          26.4,
          26.4,
          25.6,
          26,
          25.6,
          26.3,
          26.6,
          26.9,
          26.2,
          25.950000000000003,
          26.4,
          26,
          25.9,
          25.5,
          25.7,
          26.1,
          26.7,
          26.6,
          27.1,
          26.7,
          26.4,
          25.5,
          27.4,
          26.7,
          26.3,
          26.4,
          25.8,
          25.6,
          25.7,
          25.9,
          25.799999999999997,
          25.8,
          26,
          26.1,
          25.6,
          25.3,
          25.3,
          26.2,
          25.5,
          26.2,
          26.200000000000003,
          26.5,
          27,
          26.1,
          25.4,
          25.5,
          26.1,
          26,
          26.4,
          26.1,
          25.75,
          25.6,
          26.8,
          25.7,
          25.9,
          25.6,
          25.3,
          25.3,
          25.3,
          25.2,
          25.45,
          25.5,
          25.6,
          25.9,
          25.5,
          25.7,
          25.8,
          25.3,
          24.8,
          26.3,
          25.45,
          25.1,
          24.9,
          25.3,
          25.3,
          25.6,
          26.1,
          25.2,
          25.3,
          25.4,
          26.05,
          25.5,
          25.8,
          25.7,
          25.8,
          25.3,
          26.2,
          25.8,
          25.4,
          25.9,
          25.6,
          24.9,
          25,
          25.3,
          24.2,
          24.8,
          24.4,
          25,
          25.3,
          25.5,
          25.3,
          25.75,
          25.4,
          25.3,
          25.5,
          25.2,
          25.2,
          25.1,
          24.5,
          25,
          25.4,
          25.1,
          25,
          24.6,
          24.7,
          25.4,
          24.9,
          25.6,
          25.2,
          24.7,
          24.3,
          24.700000000000003,
          24.9,
          25,
          24.7,
          23.6,
          24.1,
          24.6,
          24.7,
          24.8,
          25,
          25.15,
          24.8,
          24.7,
          25.5,
          26,
          25.9,
          26.3,
          25.9,
          25,
          25,
          24.950000000000003,
          25.2,
          25.3,
          24.3,
          24.1,
          23.5,
          24.3,
          24.1,
          25.4,
          24.6,
          23.1,
          23.3,
          23.1,
          23.6,
          24,
          25.1,
          24.3,
          24.3,
          23.2,
          22.9,
          22.85,
          23.3,
          24,
          24.6,
          23.7,
          24,
          24.1,
          23.8,
          24.4,
          24.4,
          23.7,
          24.4
         ]
        }
       ],
       "layout": {
        "template": {
         "data": {
          "bar": [
           {
            "error_x": {
             "color": "#2a3f5f"
            },
            "error_y": {
             "color": "#2a3f5f"
            },
            "marker": {
             "line": {
              "color": "#E5ECF6",
              "width": 0.5
             },
             "pattern": {
              "fillmode": "overlay",
              "size": 10,
              "solidity": 0.2
             }
            },
            "type": "bar"
           }
          ],
          "barpolar": [
           {
            "marker": {
             "line": {
              "color": "#E5ECF6",
              "width": 0.5
             },
             "pattern": {
              "fillmode": "overlay",
              "size": 10,
              "solidity": 0.2
             }
            },
            "type": "barpolar"
           }
          ],
          "carpet": [
           {
            "aaxis": {
             "endlinecolor": "#2a3f5f",
             "gridcolor": "white",
             "linecolor": "white",
             "minorgridcolor": "white",
             "startlinecolor": "#2a3f5f"
            },
            "baxis": {
             "endlinecolor": "#2a3f5f",
             "gridcolor": "white",
             "linecolor": "white",
             "minorgridcolor": "white",
             "startlinecolor": "#2a3f5f"
            },
            "type": "carpet"
           }
          ],
          "choropleth": [
           {
            "colorbar": {
             "outlinewidth": 0,
             "ticks": ""
            },
            "type": "choropleth"
           }
          ],
          "contour": [
           {
            "colorbar": {
             "outlinewidth": 0,
             "ticks": ""
            },
            "colorscale": [
             [
              0,
              "#0d0887"
             ],
             [
              0.1111111111111111,
              "#46039f"
             ],
             [
              0.2222222222222222,
              "#7201a8"
             ],
             [
              0.3333333333333333,
              "#9c179e"
             ],
             [
              0.4444444444444444,
              "#bd3786"
             ],
             [
              0.5555555555555556,
              "#d8576b"
             ],
             [
              0.6666666666666666,
              "#ed7953"
             ],
             [
              0.7777777777777778,
              "#fb9f3a"
             ],
             [
              0.8888888888888888,
              "#fdca26"
             ],
             [
              1,
              "#f0f921"
             ]
            ],
            "type": "contour"
           }
          ],
          "contourcarpet": [
           {
            "colorbar": {
             "outlinewidth": 0,
             "ticks": ""
            },
            "type": "contourcarpet"
           }
          ],
          "heatmap": [
           {
            "colorbar": {
             "outlinewidth": 0,
             "ticks": ""
            },
            "colorscale": [
             [
              0,
              "#0d0887"
             ],
             [
              0.1111111111111111,
              "#46039f"
             ],
             [
              0.2222222222222222,
              "#7201a8"
             ],
             [
              0.3333333333333333,
              "#9c179e"
             ],
             [
              0.4444444444444444,
              "#bd3786"
             ],
             [
              0.5555555555555556,
              "#d8576b"
             ],
             [
              0.6666666666666666,
              "#ed7953"
             ],
             [
              0.7777777777777778,
              "#fb9f3a"
             ],
             [
              0.8888888888888888,
              "#fdca26"
             ],
             [
              1,
              "#f0f921"
             ]
            ],
            "type": "heatmap"
           }
          ],
          "heatmapgl": [
           {
            "colorbar": {
             "outlinewidth": 0,
             "ticks": ""
            },
            "colorscale": [
             [
              0,
              "#0d0887"
             ],
             [
              0.1111111111111111,
              "#46039f"
             ],
             [
              0.2222222222222222,
              "#7201a8"
             ],
             [
              0.3333333333333333,
              "#9c179e"
             ],
             [
              0.4444444444444444,
              "#bd3786"
             ],
             [
              0.5555555555555556,
              "#d8576b"
             ],
             [
              0.6666666666666666,
              "#ed7953"
             ],
             [
              0.7777777777777778,
              "#fb9f3a"
             ],
             [
              0.8888888888888888,
              "#fdca26"
             ],
             [
              1,
              "#f0f921"
             ]
            ],
            "type": "heatmapgl"
           }
          ],
          "histogram": [
           {
            "marker": {
             "pattern": {
              "fillmode": "overlay",
              "size": 10,
              "solidity": 0.2
             }
            },
            "type": "histogram"
           }
          ],
          "histogram2d": [
           {
            "colorbar": {
             "outlinewidth": 0,
             "ticks": ""
            },
            "colorscale": [
             [
              0,
              "#0d0887"
             ],
             [
              0.1111111111111111,
              "#46039f"
             ],
             [
              0.2222222222222222,
              "#7201a8"
             ],
             [
              0.3333333333333333,
              "#9c179e"
             ],
             [
              0.4444444444444444,
              "#bd3786"
             ],
             [
              0.5555555555555556,
              "#d8576b"
             ],
             [
              0.6666666666666666,
              "#ed7953"
             ],
             [
              0.7777777777777778,
              "#fb9f3a"
             ],
             [
              0.8888888888888888,
              "#fdca26"
             ],
             [
              1,
              "#f0f921"
             ]
            ],
            "type": "histogram2d"
           }
          ],
          "histogram2dcontour": [
           {
            "colorbar": {
             "outlinewidth": 0,
             "ticks": ""
            },
            "colorscale": [
             [
              0,
              "#0d0887"
             ],
             [
              0.1111111111111111,
              "#46039f"
             ],
             [
              0.2222222222222222,
              "#7201a8"
             ],
             [
              0.3333333333333333,
              "#9c179e"
             ],
             [
              0.4444444444444444,
              "#bd3786"
             ],
             [
              0.5555555555555556,
              "#d8576b"
             ],
             [
              0.6666666666666666,
              "#ed7953"
             ],
             [
              0.7777777777777778,
              "#fb9f3a"
             ],
             [
              0.8888888888888888,
              "#fdca26"
             ],
             [
              1,
              "#f0f921"
             ]
            ],
            "type": "histogram2dcontour"
           }
          ],
          "mesh3d": [
           {
            "colorbar": {
             "outlinewidth": 0,
             "ticks": ""
            },
            "type": "mesh3d"
           }
          ],
          "parcoords": [
           {
            "line": {
             "colorbar": {
              "outlinewidth": 0,
              "ticks": ""
             }
            },
            "type": "parcoords"
           }
          ],
          "pie": [
           {
            "automargin": true,
            "type": "pie"
           }
          ],
          "scatter": [
           {
            "fillpattern": {
             "fillmode": "overlay",
             "size": 10,
             "solidity": 0.2
            },
            "type": "scatter"
           }
          ],
          "scatter3d": [
           {
            "line": {
             "colorbar": {
              "outlinewidth": 0,
              "ticks": ""
             }
            },
            "marker": {
             "colorbar": {
              "outlinewidth": 0,
              "ticks": ""
             }
            },
            "type": "scatter3d"
           }
          ],
          "scattercarpet": [
           {
            "marker": {
             "colorbar": {
              "outlinewidth": 0,
              "ticks": ""
             }
            },
            "type": "scattercarpet"
           }
          ],
          "scattergeo": [
           {
            "marker": {
             "colorbar": {
              "outlinewidth": 0,
              "ticks": ""
             }
            },
            "type": "scattergeo"
           }
          ],
          "scattergl": [
           {
            "marker": {
             "colorbar": {
              "outlinewidth": 0,
              "ticks": ""
             }
            },
            "type": "scattergl"
           }
          ],
          "scattermapbox": [
           {
            "marker": {
             "colorbar": {
              "outlinewidth": 0,
              "ticks": ""
             }
            },
            "type": "scattermapbox"
           }
          ],
          "scatterpolar": [
           {
            "marker": {
             "colorbar": {
              "outlinewidth": 0,
              "ticks": ""
             }
            },
            "type": "scatterpolar"
           }
          ],
          "scatterpolargl": [
           {
            "marker": {
             "colorbar": {
              "outlinewidth": 0,
              "ticks": ""
             }
            },
            "type": "scatterpolargl"
           }
          ],
          "scatterternary": [
           {
            "marker": {
             "colorbar": {
              "outlinewidth": 0,
              "ticks": ""
             }
            },
            "type": "scatterternary"
           }
          ],
          "surface": [
           {
            "colorbar": {
             "outlinewidth": 0,
             "ticks": ""
            },
            "colorscale": [
             [
              0,
              "#0d0887"
             ],
             [
              0.1111111111111111,
              "#46039f"
             ],
             [
              0.2222222222222222,
              "#7201a8"
             ],
             [
              0.3333333333333333,
              "#9c179e"
             ],
             [
              0.4444444444444444,
              "#bd3786"
             ],
             [
              0.5555555555555556,
              "#d8576b"
             ],
             [
              0.6666666666666666,
              "#ed7953"
             ],
             [
              0.7777777777777778,
              "#fb9f3a"
             ],
             [
              0.8888888888888888,
              "#fdca26"
             ],
             [
              1,
              "#f0f921"
             ]
            ],
            "type": "surface"
           }
          ],
          "table": [
           {
            "cells": {
             "fill": {
              "color": "#EBF0F8"
             },
             "line": {
              "color": "white"
             }
            },
            "header": {
             "fill": {
              "color": "#C8D4E3"
             },
             "line": {
              "color": "white"
             }
            },
            "type": "table"
           }
          ]
         },
         "layout": {
          "annotationdefaults": {
           "arrowcolor": "#2a3f5f",
           "arrowhead": 0,
           "arrowwidth": 1
          },
          "autotypenumbers": "strict",
          "coloraxis": {
           "colorbar": {
            "outlinewidth": 0,
            "ticks": ""
           }
          },
          "colorscale": {
           "diverging": [
            [
             0,
             "#8e0152"
            ],
            [
             0.1,
             "#c51b7d"
            ],
            [
             0.2,
             "#de77ae"
            ],
            [
             0.3,
             "#f1b6da"
            ],
            [
             0.4,
             "#fde0ef"
            ],
            [
             0.5,
             "#f7f7f7"
            ],
            [
             0.6,
             "#e6f5d0"
            ],
            [
             0.7,
             "#b8e186"
            ],
            [
             0.8,
             "#7fbc41"
            ],
            [
             0.9,
             "#4d9221"
            ],
            [
             1,
             "#276419"
            ]
           ],
           "sequential": [
            [
             0,
             "#0d0887"
            ],
            [
             0.1111111111111111,
             "#46039f"
            ],
            [
             0.2222222222222222,
             "#7201a8"
            ],
            [
             0.3333333333333333,
             "#9c179e"
            ],
            [
             0.4444444444444444,
             "#bd3786"
            ],
            [
             0.5555555555555556,
             "#d8576b"
            ],
            [
             0.6666666666666666,
             "#ed7953"
            ],
            [
             0.7777777777777778,
             "#fb9f3a"
            ],
            [
             0.8888888888888888,
             "#fdca26"
            ],
            [
             1,
             "#f0f921"
            ]
           ],
           "sequentialminus": [
            [
             0,
             "#0d0887"
            ],
            [
             0.1111111111111111,
             "#46039f"
            ],
            [
             0.2222222222222222,
             "#7201a8"
            ],
            [
             0.3333333333333333,
             "#9c179e"
            ],
            [
             0.4444444444444444,
             "#bd3786"
            ],
            [
             0.5555555555555556,
             "#d8576b"
            ],
            [
             0.6666666666666666,
             "#ed7953"
            ],
            [
             0.7777777777777778,
             "#fb9f3a"
            ],
            [
             0.8888888888888888,
             "#fdca26"
            ],
            [
             1,
             "#f0f921"
            ]
           ]
          },
          "colorway": [
           "#636efa",
           "#EF553B",
           "#00cc96",
           "#ab63fa",
           "#FFA15A",
           "#19d3f3",
           "#FF6692",
           "#B6E880",
           "#FF97FF",
           "#FECB52"
          ],
          "font": {
           "color": "#2a3f5f"
          },
          "geo": {
           "bgcolor": "white",
           "lakecolor": "white",
           "landcolor": "#E5ECF6",
           "showlakes": true,
           "showland": true,
           "subunitcolor": "white"
          },
          "hoverlabel": {
           "align": "left"
          },
          "hovermode": "closest",
          "mapbox": {
           "style": "light"
          },
          "paper_bgcolor": "white",
          "plot_bgcolor": "#E5ECF6",
          "polar": {
           "angularaxis": {
            "gridcolor": "white",
            "linecolor": "white",
            "ticks": ""
           },
           "bgcolor": "#E5ECF6",
           "radialaxis": {
            "gridcolor": "white",
            "linecolor": "white",
            "ticks": ""
           }
          },
          "scene": {
           "xaxis": {
            "backgroundcolor": "#E5ECF6",
            "gridcolor": "white",
            "gridwidth": 2,
            "linecolor": "white",
            "showbackground": true,
            "ticks": "",
            "zerolinecolor": "white"
           },
           "yaxis": {
            "backgroundcolor": "#E5ECF6",
            "gridcolor": "white",
            "gridwidth": 2,
            "linecolor": "white",
            "showbackground": true,
            "ticks": "",
            "zerolinecolor": "white"
           },
           "zaxis": {
            "backgroundcolor": "#E5ECF6",
            "gridcolor": "white",
            "gridwidth": 2,
            "linecolor": "white",
            "showbackground": true,
            "ticks": "",
            "zerolinecolor": "white"
           }
          },
          "shapedefaults": {
           "line": {
            "color": "#2a3f5f"
           }
          },
          "ternary": {
           "aaxis": {
            "gridcolor": "white",
            "linecolor": "white",
            "ticks": ""
           },
           "baxis": {
            "gridcolor": "white",
            "linecolor": "white",
            "ticks": ""
           },
           "bgcolor": "#E5ECF6",
           "caxis": {
            "gridcolor": "white",
            "linecolor": "white",
            "ticks": ""
           }
          },
          "title": {
           "x": 0.05
          },
          "xaxis": {
           "automargin": true,
           "gridcolor": "white",
           "linecolor": "white",
           "ticks": "",
           "title": {
            "standoff": 15
           },
           "zerolinecolor": "white",
           "zerolinewidth": 2
          },
          "yaxis": {
           "automargin": true,
           "gridcolor": "white",
           "linecolor": "white",
           "ticks": "",
           "title": {
            "standoff": 15
           },
           "zerolinecolor": "white",
           "zerolinewidth": 2
          }
         }
        },
        "title": {
         "text": "Actual vs Predicted Temperature Daily"
        },
        "xaxis": {
         "title": {
          "text": "Date"
         }
        },
        "yaxis": {
         "title": {
          "text": "Temperature (°C)"
         }
        }
       }
      }
     },
     "metadata": {},
     "output_type": "display_data"
    }
   ],
   "source": [
    "import plotly.graph_objs as go\n",
    " \n",
    "# The dataset datetime is in dataframe, the array does not include it. Set the array with relative to dataframe datetimes\n",
    "array = predict \n",
    "array1 = y\n",
    "dates = pd.date_range(start='1/1/2022',end ='11/1/2022', periods=len(array))  \n",
    "dates1 = pd.date_range(start='1/1/2022',end ='11/1/2022', periods=len(array1))  \n",
    "\n",
    "\n",
    "df = pd.DataFrame(array, index=dates, columns=['Value'])\n",
    "df_resampled = df.resample('D').mean()\n",
    "\n",
    "\n",
    "df1 = pd.DataFrame(array1, index=dates1, columns=['Value'])\n",
    "df_resampled1 = df1.resample('D').mean()\n",
    "\n",
    "fig = go.Figure()\n",
    "fig.add_trace(go.Scatter(x=df_resampled.index, y=df_resampled['Value'], mode=\"lines\", name='pred'))\n",
    "\n",
    "# Plot actual temperature\n",
    "fig.add_trace(go.Scatter(x=df_resampled1.index, y=df_resampled1['Value'], mode='lines', name='Actual Temperature'))\n",
    "\n",
    "# Update layout\n",
    "fig.update_layout(title='Actual vs Predicted Temperature Daily',\n",
    "                  xaxis_title='Date',\n",
    "                  yaxis_title='Temperature (°C)')\n",
    "fig.show()"
   ]
  },
  {
   "cell_type": "code",
   "execution_count": null,
   "metadata": {},
   "outputs": [],
   "source": []
  }
 ],
 "metadata": {
  "kernelspec": {
   "display_name": "Python 3",
   "language": "python",
   "name": "python3"
  },
  "language_info": {
   "codemirror_mode": {
    "name": "ipython",
    "version": 3
   },
   "file_extension": ".py",
   "mimetype": "text/x-python",
   "name": "python",
   "nbconvert_exporter": "python",
   "pygments_lexer": "ipython3",
   "version": "3.10.11"
  }
 },
 "nbformat": 4,
 "nbformat_minor": 2
}
